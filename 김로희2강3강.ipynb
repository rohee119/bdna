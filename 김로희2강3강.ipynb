{
  "nbformat": 4,
  "nbformat_minor": 0,
  "metadata": {
    "colab": {
      "name": "김로희2강3강.ipynb",
      "provenance": [],
      "authorship_tag": "ABX9TyN5nbZ7N/YwhcxPaaUh+PYD",
      "include_colab_link": true
    },
    "kernelspec": {
      "name": "python3",
      "display_name": "Python 3"
    },
    "language_info": {
      "name": "python"
    }
  },
  "cells": [
    {
      "cell_type": "markdown",
      "metadata": {
        "id": "view-in-github",
        "colab_type": "text"
      },
      "source": [
        "<a href=\"https://colab.research.google.com/github/rohee119/bdna/blob/main/%EA%B9%80%EB%A1%9C%ED%9D%AC2%EA%B0%953%EA%B0%95.ipynb\" target=\"_parent\"><img src=\"https://colab.research.google.com/assets/colab-badge.svg\" alt=\"Open In Colab\"/></a>"
      ]
    },
    {
      "cell_type": "code",
      "execution_count": 1,
      "metadata": {
        "id": "PmylzXNdCAab"
      },
      "outputs": [],
      "source": [
        "import numpy as np"
      ]
    },
    {
      "cell_type": "code",
      "source": [
        "np.__version__"
      ],
      "metadata": {
        "colab": {
          "base_uri": "https://localhost:8080/",
          "height": 35
        },
        "id": "zE3bhNkQCBzF",
        "outputId": "6c7ae3b2-c888-4a46-ac56-c53389ff5879"
      },
      "execution_count": 2,
      "outputs": [
        {
          "output_type": "execute_result",
          "data": {
            "text/plain": [
              "'1.21.5'"
            ],
            "application/vnd.google.colaboratory.intrinsic+json": {
              "type": "string"
            }
          },
          "metadata": {},
          "execution_count": 2
        }
      ]
    },
    {
      "cell_type": "code",
      "source": [
        "a=np.array((1,2,3),dtype=float)\n",
        "print(a)"
      ],
      "metadata": {
        "colab": {
          "base_uri": "https://localhost:8080/"
        },
        "id": "z3wM0J4lCCs5",
        "outputId": "24854eda-d7d5-4259-9a24-778ac660a421"
      },
      "execution_count": 3,
      "outputs": [
        {
          "output_type": "stream",
          "name": "stdout",
          "text": [
            "[1. 2. 3.]\n"
          ]
        }
      ]
    },
    {
      "cell_type": "code",
      "source": [
        "a=np.array([(1,2,3),(4,5,6)],dtype=float)\n",
        "print(a)"
      ],
      "metadata": {
        "colab": {
          "base_uri": "https://localhost:8080/"
        },
        "id": "jG2Lnw2CCEzT",
        "outputId": "c4085004-7f79-41f5-f734-adcadea807a6"
      },
      "execution_count": 4,
      "outputs": [
        {
          "output_type": "stream",
          "name": "stdout",
          "text": [
            "[[1. 2. 3.]\n",
            " [4. 5. 6.]]\n"
          ]
        }
      ]
    },
    {
      "cell_type": "code",
      "source": [
        "a=np.array([[[1,2,3],[4,5,6]],[[3,2,1],[4,5,6]]],dtype=float)\n",
        "print(a)"
      ],
      "metadata": {
        "colab": {
          "base_uri": "https://localhost:8080/"
        },
        "id": "N5pwHquDCFzC",
        "outputId": "9ab7bf11-104d-4502-b27b-ba1da9e187a1"
      },
      "execution_count": 5,
      "outputs": [
        {
          "output_type": "stream",
          "name": "stdout",
          "text": [
            "[[[1. 2. 3.]\n",
            "  [4. 5. 6.]]\n",
            "\n",
            " [[3. 2. 1.]\n",
            "  [4. 5. 6.]]]\n"
          ]
        }
      ]
    },
    {
      "cell_type": "code",
      "source": [
        "a=np.zeros((3))\n",
        "print(a)"
      ],
      "metadata": {
        "colab": {
          "base_uri": "https://localhost:8080/"
        },
        "id": "AszofE3UCGwB",
        "outputId": "907aea1e-7d58-4591-cafa-765da9509410"
      },
      "execution_count": 6,
      "outputs": [
        {
          "output_type": "stream",
          "name": "stdout",
          "text": [
            "[0. 0. 0.]\n"
          ]
        }
      ]
    },
    {
      "cell_type": "code",
      "source": [
        "a=np.zeros((3,4))\n",
        "print(a)"
      ],
      "metadata": {
        "colab": {
          "base_uri": "https://localhost:8080/"
        },
        "id": "jT-xGPp_CHvM",
        "outputId": "1f906590-9489-4e53-f9bd-2ac0162d73d6"
      },
      "execution_count": 7,
      "outputs": [
        {
          "output_type": "stream",
          "name": "stdout",
          "text": [
            "[[0. 0. 0. 0.]\n",
            " [0. 0. 0. 0.]\n",
            " [0. 0. 0. 0.]]\n"
          ]
        }
      ]
    },
    {
      "cell_type": "code",
      "source": [
        "a=np.zeros((2,3,4))\n",
        "print(a)"
      ],
      "metadata": {
        "colab": {
          "base_uri": "https://localhost:8080/"
        },
        "id": "5R1z78i4CI1P",
        "outputId": "385c8ac9-6c63-4f3c-a7e0-44222e62eefd"
      },
      "execution_count": 8,
      "outputs": [
        {
          "output_type": "stream",
          "name": "stdout",
          "text": [
            "[[[0. 0. 0. 0.]\n",
            "  [0. 0. 0. 0.]\n",
            "  [0. 0. 0. 0.]]\n",
            "\n",
            " [[0. 0. 0. 0.]\n",
            "  [0. 0. 0. 0.]\n",
            "  [0. 0. 0. 0.]]]\n"
          ]
        }
      ]
    },
    {
      "cell_type": "code",
      "source": [
        "a=np.full((3),4,dtype=np.int16)\n",
        "print(a)"
      ],
      "metadata": {
        "colab": {
          "base_uri": "https://localhost:8080/"
        },
        "id": "3Ni1on-ZCKG6",
        "outputId": "b67b171d-c8fe-4292-d65a-4d306d959d81"
      },
      "execution_count": 9,
      "outputs": [
        {
          "output_type": "stream",
          "name": "stdout",
          "text": [
            "[4 4 4]\n"
          ]
        }
      ]
    },
    {
      "cell_type": "code",
      "source": [
        "a=np.full((3,4),-1,dtype=float)\n",
        "print(a)"
      ],
      "metadata": {
        "colab": {
          "base_uri": "https://localhost:8080/"
        },
        "id": "EzzFjtLyCLSQ",
        "outputId": "7eb83bfe-5c54-442d-cd98-709175de870d"
      },
      "execution_count": 10,
      "outputs": [
        {
          "output_type": "stream",
          "name": "stdout",
          "text": [
            "[[-1. -1. -1. -1.]\n",
            " [-1. -1. -1. -1.]\n",
            " [-1. -1. -1. -1.]]\n"
          ]
        }
      ]
    },
    {
      "cell_type": "code",
      "source": [
        "a=np.full((3,4),-1)\n",
        "print(a)"
      ],
      "metadata": {
        "colab": {
          "base_uri": "https://localhost:8080/"
        },
        "id": "Vcdn96WYCMuv",
        "outputId": "b13a912a-8f76-438f-a949-f30ba61e2904"
      },
      "execution_count": 11,
      "outputs": [
        {
          "output_type": "stream",
          "name": "stdout",
          "text": [
            "[[-1 -1 -1 -1]\n",
            " [-1 -1 -1 -1]\n",
            " [-1 -1 -1 -1]]\n"
          ]
        }
      ]
    },
    {
      "cell_type": "code",
      "source": [
        "a=np.full((2,3,4),-1,dtype=np.float)\n",
        "print(a)"
      ],
      "metadata": {
        "colab": {
          "base_uri": "https://localhost:8080/"
        },
        "id": "jAqTrBvKCNrh",
        "outputId": "496c741f-f321-4273-ab09-715b594e16fd"
      },
      "execution_count": 12,
      "outputs": [
        {
          "output_type": "stream",
          "name": "stdout",
          "text": [
            "[[[-1. -1. -1. -1.]\n",
            "  [-1. -1. -1. -1.]\n",
            "  [-1. -1. -1. -1.]]\n",
            "\n",
            " [[-1. -1. -1. -1.]\n",
            "  [-1. -1. -1. -1.]\n",
            "  [-1. -1. -1. -1.]]]\n"
          ]
        },
        {
          "output_type": "stream",
          "name": "stderr",
          "text": [
            "/usr/local/lib/python3.7/dist-packages/ipykernel_launcher.py:1: DeprecationWarning: `np.float` is a deprecated alias for the builtin `float`. To silence this warning, use `float` by itself. Doing this will not modify any behavior and is safe. If you specifically wanted the numpy scalar type, use `np.float64` here.\n",
            "Deprecated in NumPy 1.20; for more details and guidance: https://numpy.org/devdocs/release/1.20.0-notes.html#deprecations\n",
            "  \"\"\"Entry point for launching an IPython kernel.\n"
          ]
        }
      ]
    },
    {
      "cell_type": "code",
      "source": [
        "a=np.eye(3,dtype=float)\n",
        "print(a)"
      ],
      "metadata": {
        "colab": {
          "base_uri": "https://localhost:8080/"
        },
        "id": "RyJjJM5UCPNU",
        "outputId": "57a0f699-2823-421e-95f5-3df260a94482"
      },
      "execution_count": 13,
      "outputs": [
        {
          "output_type": "stream",
          "name": "stdout",
          "text": [
            "[[1. 0. 0.]\n",
            " [0. 1. 0.]\n",
            " [0. 0. 1.]]\n"
          ]
        }
      ]
    },
    {
      "cell_type": "code",
      "source": [
        "a=np.array([(1,2,3),(4,5,6)],dtype=float)\n",
        "b=np.ones_like(a)\n",
        "print(a)"
      ],
      "metadata": {
        "colab": {
          "base_uri": "https://localhost:8080/"
        },
        "id": "5VfGGqZlCQXg",
        "outputId": "3ff966d2-07ba-4128-85c4-7eaf895b0ad3"
      },
      "execution_count": 14,
      "outputs": [
        {
          "output_type": "stream",
          "name": "stdout",
          "text": [
            "[[1. 2. 3.]\n",
            " [4. 5. 6.]]\n"
          ]
        }
      ]
    },
    {
      "cell_type": "code",
      "source": [
        "a=np.array([(1,2,3),(4,5,6)],dtype=float)\n",
        "b=np.ones_like(a)\n",
        "print(b)"
      ],
      "metadata": {
        "colab": {
          "base_uri": "https://localhost:8080/"
        },
        "id": "TvPxuzT-CRWE",
        "outputId": "b07f73d1-0958-47a7-d03d-445b34bb30c0"
      },
      "execution_count": 15,
      "outputs": [
        {
          "output_type": "stream",
          "name": "stdout",
          "text": [
            "[[1. 1. 1.]\n",
            " [1. 1. 1.]]\n"
          ]
        }
      ]
    },
    {
      "cell_type": "code",
      "source": [
        "a=np.array([(1,2,3),(4,5,6)],dtype=float)\n",
        "b=np.zeros_like(a)\n",
        "print(a)"
      ],
      "metadata": {
        "colab": {
          "base_uri": "https://localhost:8080/"
        },
        "id": "UmHTyrhOCSbU",
        "outputId": "7443968f-2fd9-4438-ed96-03abb06aa0a1"
      },
      "execution_count": 16,
      "outputs": [
        {
          "output_type": "stream",
          "name": "stdout",
          "text": [
            "[[1. 2. 3.]\n",
            " [4. 5. 6.]]\n"
          ]
        }
      ]
    },
    {
      "cell_type": "code",
      "source": [
        "a=np.array([(1,2,3),(4,5,6)],dtype=float)\n",
        "b=np.zeros_like(a)\n",
        "print(b)"
      ],
      "metadata": {
        "colab": {
          "base_uri": "https://localhost:8080/"
        },
        "id": "zH1GjGqgCTUY",
        "outputId": "242ac4b7-9edb-4e67-e1f7-b833858d53de"
      },
      "execution_count": 17,
      "outputs": [
        {
          "output_type": "stream",
          "name": "stdout",
          "text": [
            "[[0. 0. 0.]\n",
            " [0. 0. 0.]]\n"
          ]
        }
      ]
    },
    {
      "cell_type": "code",
      "source": [
        "arr=np.array([(1,2,3),(4,5,6)],dtype=float)\n",
        "print(arr)"
      ],
      "metadata": {
        "colab": {
          "base_uri": "https://localhost:8080/"
        },
        "id": "FxuF6bz7CUjF",
        "outputId": "ddf6d568-93b5-47b8-e61f-7fba3d520ac5"
      },
      "execution_count": 18,
      "outputs": [
        {
          "output_type": "stream",
          "name": "stdout",
          "text": [
            "[[1. 2. 3.]\n",
            " [4. 5. 6.]]\n"
          ]
        }
      ]
    },
    {
      "cell_type": "code",
      "source": [
        "arr.shape"
      ],
      "metadata": {
        "colab": {
          "base_uri": "https://localhost:8080/"
        },
        "id": "xPlTRYRyCVVd",
        "outputId": "128767eb-c93e-40de-8541-6194755c57cd"
      },
      "execution_count": 19,
      "outputs": [
        {
          "output_type": "execute_result",
          "data": {
            "text/plain": [
              "(2, 3)"
            ]
          },
          "metadata": {},
          "execution_count": 19
        }
      ]
    },
    {
      "cell_type": "code",
      "source": [
        "len(arr)"
      ],
      "metadata": {
        "colab": {
          "base_uri": "https://localhost:8080/"
        },
        "id": "rkv7fpVoCWeE",
        "outputId": "6d5c7d6b-c336-47ad-fa37-78a34aa6a22e"
      },
      "execution_count": 20,
      "outputs": [
        {
          "output_type": "execute_result",
          "data": {
            "text/plain": [
              "2"
            ]
          },
          "metadata": {},
          "execution_count": 20
        }
      ]
    },
    {
      "cell_type": "code",
      "source": [
        "arr.ndim"
      ],
      "metadata": {
        "colab": {
          "base_uri": "https://localhost:8080/"
        },
        "id": "0yxQolMDCXPd",
        "outputId": "6ee147f2-1c0f-48cf-b00a-119b6f4d27ba"
      },
      "execution_count": 21,
      "outputs": [
        {
          "output_type": "execute_result",
          "data": {
            "text/plain": [
              "2"
            ]
          },
          "metadata": {},
          "execution_count": 21
        }
      ]
    },
    {
      "cell_type": "code",
      "source": [
        "arr.dtype"
      ],
      "metadata": {
        "colab": {
          "base_uri": "https://localhost:8080/"
        },
        "id": "W_oz7AlHCYX3",
        "outputId": "22e9e380-ddc6-43ff-cee6-8134326c4635"
      },
      "execution_count": 22,
      "outputs": [
        {
          "output_type": "execute_result",
          "data": {
            "text/plain": [
              "dtype('float64')"
            ]
          },
          "metadata": {},
          "execution_count": 22
        }
      ]
    },
    {
      "cell_type": "code",
      "source": [
        "a=np.linspace(0,1,5)\n",
        "print(a)\n"
      ],
      "metadata": {
        "colab": {
          "base_uri": "https://localhost:8080/"
        },
        "id": "ZKXUDZq0CZQI",
        "outputId": "b625118b-960f-488b-f341-672b7bf8de0f"
      },
      "execution_count": 23,
      "outputs": [
        {
          "output_type": "stream",
          "name": "stdout",
          "text": [
            "[0.   0.25 0.5  0.75 1.  ]\n"
          ]
        }
      ]
    },
    {
      "cell_type": "code",
      "source": [
        "a=np.arange(0,10,2,np.float)\n",
        "print(a)"
      ],
      "metadata": {
        "colab": {
          "base_uri": "https://localhost:8080/"
        },
        "id": "N2GT1cn4CaZI",
        "outputId": "4cb6b30a-5577-4ea0-a234-af173f5513e2"
      },
      "execution_count": 24,
      "outputs": [
        {
          "output_type": "stream",
          "name": "stdout",
          "text": [
            "[0. 2. 4. 6. 8.]\n"
          ]
        },
        {
          "output_type": "stream",
          "name": "stderr",
          "text": [
            "/usr/local/lib/python3.7/dist-packages/ipykernel_launcher.py:1: DeprecationWarning: `np.float` is a deprecated alias for the builtin `float`. To silence this warning, use `float` by itself. Doing this will not modify any behavior and is safe. If you specifically wanted the numpy scalar type, use `np.float64` here.\n",
            "Deprecated in NumPy 1.20; for more details and guidance: https://numpy.org/devdocs/release/1.20.0-notes.html#deprecations\n",
            "  \"\"\"Entry point for launching an IPython kernel.\n"
          ]
        }
      ]
    },
    {
      "cell_type": "code",
      "source": [
        "a=np.logspace(0,10,4,np.float)\n",
        "print(a)"
      ],
      "metadata": {
        "colab": {
          "base_uri": "https://localhost:8080/"
        },
        "id": "9Zp-fLeuCbx2",
        "outputId": "5aaa743e-7c8f-4c43-c26e-036706e8f4e3"
      },
      "execution_count": 25,
      "outputs": [
        {
          "output_type": "stream",
          "name": "stdout",
          "text": [
            "[1.00000000e+00 2.15443469e+03 4.64158883e+06 1.00000000e+10]\n"
          ]
        },
        {
          "output_type": "stream",
          "name": "stderr",
          "text": [
            "/usr/local/lib/python3.7/dist-packages/ipykernel_launcher.py:1: DeprecationWarning: `np.float` is a deprecated alias for the builtin `float`. To silence this warning, use `float` by itself. Doing this will not modify any behavior and is safe. If you specifically wanted the numpy scalar type, use `np.float64` here.\n",
            "Deprecated in NumPy 1.20; for more details and guidance: https://numpy.org/devdocs/release/1.20.0-notes.html#deprecations\n",
            "  \"\"\"Entry point for launching an IPython kernel.\n"
          ]
        }
      ]
    },
    {
      "cell_type": "code",
      "source": [
        "a=np.arange(1,10).reshape(3,3)\n",
        "print(a)"
      ],
      "metadata": {
        "colab": {
          "base_uri": "https://localhost:8080/"
        },
        "id": "IoteUouPCdGS",
        "outputId": "f4e4cd31-2472-4ca9-838c-826329999578"
      },
      "execution_count": 26,
      "outputs": [
        {
          "output_type": "stream",
          "name": "stdout",
          "text": [
            "[[1 2 3]\n",
            " [4 5 6]\n",
            " [7 8 9]]\n"
          ]
        }
      ]
    },
    {
      "cell_type": "code",
      "source": [
        "a=np.arange(1,17).reshape(4,4)\n",
        "print(a)"
      ],
      "metadata": {
        "colab": {
          "base_uri": "https://localhost:8080/"
        },
        "id": "sxGE9d2ZCeQT",
        "outputId": "a77324ee-d6e7-446e-cc61-b243305216f6"
      },
      "execution_count": 27,
      "outputs": [
        {
          "output_type": "stream",
          "name": "stdout",
          "text": [
            "[[ 1  2  3  4]\n",
            " [ 5  6  7  8]\n",
            " [ 9 10 11 12]\n",
            " [13 14 15 16]]\n"
          ]
        }
      ]
    },
    {
      "cell_type": "code",
      "source": [
        "a=np.arange(1,10).reshape(3,3)\n",
        "print(a)\n",
        "\n",
        "b=np.arange(9,0,-1).reshape(3,3)\n",
        "print(b)"
      ],
      "metadata": {
        "colab": {
          "base_uri": "https://localhost:8080/"
        },
        "id": "HW5Hcb8ZCfSj",
        "outputId": "87a4b5c4-255d-44c9-cb32-bf7cdad068fb"
      },
      "execution_count": 31,
      "outputs": [
        {
          "output_type": "stream",
          "name": "stdout",
          "text": [
            "[[1 2 3]\n",
            " [4 5 6]\n",
            " [7 8 9]]\n",
            "[[9 8 7]\n",
            " [6 5 4]\n",
            " [3 2 1]]\n"
          ]
        }
      ]
    },
    {
      "cell_type": "code",
      "source": [
        "c=np.add(a,b)\n",
        "print(c)"
      ],
      "metadata": {
        "colab": {
          "base_uri": "https://localhost:8080/"
        },
        "id": "LbriuqfBCgbx",
        "outputId": "01d3e40a-2cd6-4a6e-daec-648f11ec6eee"
      },
      "execution_count": 32,
      "outputs": [
        {
          "output_type": "stream",
          "name": "stdout",
          "text": [
            "[[10 10 10]\n",
            " [10 10 10]\n",
            " [10 10 10]]\n"
          ]
        }
      ]
    },
    {
      "cell_type": "code",
      "source": [
        "d=np.subtract(a,b)\n",
        "print(d)"
      ],
      "metadata": {
        "colab": {
          "base_uri": "https://localhost:8080/"
        },
        "id": "MaItbWpIChcf",
        "outputId": "023736fd-480f-411c-d82c-7dd10919766a"
      },
      "execution_count": 33,
      "outputs": [
        {
          "output_type": "stream",
          "name": "stdout",
          "text": [
            "[[-8 -6 -4]\n",
            " [-2  0  2]\n",
            " [ 4  6  8]]\n"
          ]
        }
      ]
    },
    {
      "cell_type": "code",
      "source": [
        "c=np.multiply(a,b)\n",
        "print(c)"
      ],
      "metadata": {
        "colab": {
          "base_uri": "https://localhost:8080/"
        },
        "id": "wSzMAgzADDqk",
        "outputId": "1d7360b5-a281-4e98-dec7-0729cc5079de"
      },
      "execution_count": 34,
      "outputs": [
        {
          "output_type": "stream",
          "name": "stdout",
          "text": [
            "[[ 9 16 21]\n",
            " [24 25 24]\n",
            " [21 16  9]]\n"
          ]
        }
      ]
    },
    {
      "cell_type": "code",
      "source": [
        "d=np.divide(a,b)\n",
        "print(d)"
      ],
      "metadata": {
        "colab": {
          "base_uri": "https://localhost:8080/"
        },
        "id": "bpJsLNseDGIL",
        "outputId": "6e857bc8-c6e3-4e8b-ee21-f66198f425cf"
      },
      "execution_count": 35,
      "outputs": [
        {
          "output_type": "stream",
          "name": "stdout",
          "text": [
            "[[0.11111111 0.25       0.42857143]\n",
            " [0.66666667 1.         1.5       ]\n",
            " [2.33333333 4.         9.        ]]\n"
          ]
        }
      ]
    },
    {
      "cell_type": "code",
      "source": [
        "c=np.dot(a,b)\n",
        "print(c)"
      ],
      "metadata": {
        "colab": {
          "base_uri": "https://localhost:8080/"
        },
        "id": "IRq-e2-PDHhs",
        "outputId": "40669262-44d8-4b88-a2cf-5ea5c205c8a0"
      },
      "execution_count": 36,
      "outputs": [
        {
          "output_type": "stream",
          "name": "stdout",
          "text": [
            "[[ 30  24  18]\n",
            " [ 84  69  54]\n",
            " [138 114  90]]\n"
          ]
        }
      ]
    },
    {
      "cell_type": "code",
      "source": [
        "import matplotlib.pyplot as plt"
      ],
      "metadata": {
        "id": "SXw0ROwcDI_7"
      },
      "execution_count": 37,
      "outputs": []
    },
    {
      "cell_type": "code",
      "source": [
        "plt.plot([1,2,3],[10,20,-10])\n",
        "plt.show()"
      ],
      "metadata": {
        "colab": {
          "base_uri": "https://localhost:8080/",
          "height": 265
        },
        "id": "vpBfGJ-6DKCo",
        "outputId": "966dfa1e-4ba0-4ee0-9b46-02c55c9da1eb"
      },
      "execution_count": 38,
      "outputs": [
        {
          "output_type": "display_data",
          "data": {
            "text/plain": [
              "<Figure size 432x288 with 1 Axes>"
            ],
            "image/png": "[encoded data removed]"
          },
          "metadata": {
            "needs_background": "light"
          }
        }
      ]
    },
    {
      "cell_type": "code",
      "source": [
        "plt.plot([10,20,-10])\n",
        "plt.show()"
      ],
      "metadata": {
        "colab": {
          "base_uri": "https://localhost:8080/",
          "height": 265
        },
        "id": "WDJ6zUxPDLFV",
        "outputId": "492458f3-2457-4fa7-cd34-502af06230ec"
      },
      "execution_count": 39,
      "outputs": [
        {
          "output_type": "display_data",
          "data": {
            "text/plain": [
              "<Figure size 432x288 with 1 Axes>"
            ],
            "image/png": "[encoded data removed]"
          },
          "metadata": {
            "needs_background": "light"
          }
        }
      ]
    },
    {
      "cell_type": "code",
      "source": [
        "plt.plot([4,6,10,11],[10,20,25,30])\n",
        "plt.xlabel('x-axis')\n",
        "plt.ylabel('y-axis')\n",
        "plt.title('Data')\n",
        "plt.show()"
      ],
      "metadata": {
        "colab": {
          "base_uri": "https://localhost:8080/",
          "height": 295
        },
        "id": "_O1kxutQDMfc",
        "outputId": "21f0fe8e-acef-4e8b-8ef4-2fb175182c19"
      },
      "execution_count": 40,
      "outputs": [
        {
          "output_type": "display_data",
          "data": {
            "text/plain": [
              "<Figure size 432x288 with 1 Axes>"
            ],
            "image/png": "[encoded data removed]"
          },
          "metadata": {
            "needs_background": "light"
          }
        }
      ]
    },
    {
      "cell_type": "code",
      "source": [
        "x=np.linspace(0,2*np.pi,100)"
      ],
      "metadata": {
        "id": "8Sh_oY84DNnd"
      },
      "execution_count": 41,
      "outputs": []
    },
    {
      "cell_type": "code",
      "source": [
        "y=np.sin(x)"
      ],
      "metadata": {
        "id": "_MDC_55xDOrv"
      },
      "execution_count": 42,
      "outputs": []
    },
    {
      "cell_type": "code",
      "source": [
        "plt.plot(x,y)\n",
        "plt.xlabel('x-axis')\n",
        "plt.ylabel('y-axis')\n",
        "plt.title('sin(x)')\n",
        "plt.show()"
      ],
      "metadata": {
        "colab": {
          "base_uri": "https://localhost:8080/",
          "height": 295
        },
        "id": "11y2QxyiDPog",
        "outputId": "d78ae189-9e16-428b-9f1b-785c5149ec01"
      },
      "execution_count": 43,
      "outputs": [
        {
          "output_type": "display_data",
          "data": {
            "text/plain": [
              "<Figure size 432x288 with 1 Axes>"
            ],
            "image/png": "[encoded data removed]"
          },
          "metadata": {
            "needs_background": "light"
          }
        }
      ]
    },
    {
      "cell_type": "code",
      "source": [
        "x=np.linspace(0,2*np.pi,100)"
      ],
      "metadata": {
        "id": "wTYbFgFYDQh9"
      },
      "execution_count": 44,
      "outputs": []
    },
    {
      "cell_type": "code",
      "source": [
        "y=np.sin(x)+np.cos(x)+10\n"
      ],
      "metadata": {
        "id": "Ju-8pQrBDRa1"
      },
      "execution_count": 45,
      "outputs": []
    },
    {
      "cell_type": "code",
      "source": [
        "plt.plot(x,y)\n",
        "plt.xlabel('x-axis')\n",
        "plt.ylabel('y-axis')\n",
        "plt.title('sin(x)+cos(x)+10')\n",
        "plt.show()"
      ],
      "metadata": {
        "colab": {
          "base_uri": "https://localhost:8080/",
          "height": 295
        },
        "id": "HmY28WQoDStq",
        "outputId": "08628604-5cbd-4dc2-a457-fc6e1eb4a0fa"
      },
      "execution_count": 46,
      "outputs": [
        {
          "output_type": "display_data",
          "data": {
            "text/plain": [
              "<Figure size 432x288 with 1 Axes>"
            ],
            "image/png": "[encoded data removed]"
          },
          "metadata": {
            "needs_background": "light"
          }
        }
      ]
    },
    {
      "cell_type": "code",
      "source": [
        "x=np.linspace(0,2*np.pi,100)"
      ],
      "metadata": {
        "id": "TMTJnqh5DTum"
      },
      "execution_count": 47,
      "outputs": []
    },
    {
      "cell_type": "code",
      "source": [
        "y1=np.sin(x)\n",
        "y2=np.sin(x)+np.cos(x)"
      ],
      "metadata": {
        "id": "-vDw47WnDVHI"
      },
      "execution_count": 48,
      "outputs": []
    },
    {
      "cell_type": "code",
      "source": [
        "plt.plot(x,y1,x,y2)\n",
        "plt.xlabel('x-axis')\n",
        "plt.ylabel('y-axis')\n",
        "plt.title('Two functions')\n",
        "plt.legend(['sin(x)','sin(x)+cos(x)'])\n",
        "plt.show()"
      ],
      "metadata": {
        "colab": {
          "base_uri": "https://localhost:8080/",
          "height": 295
        },
        "id": "1emSdvuSDWHp",
        "outputId": "763b653f-3c5c-4880-915c-07795194e902"
      },
      "execution_count": 49,
      "outputs": [
        {
          "output_type": "display_data",
          "data": {
            "text/plain": [
              "<Figure size 432x288 with 1 Axes>"
            ],
            "image/png": "[encoded data removed]"
          },
          "metadata": {
            "needs_background": "light"
          }
        }
      ]
    },
    {
      "cell_type": "code",
      "source": [
        "x=np.linspace(0,2*np.pi,100)\n",
        "\n",
        "y1=np.sin(x)\n",
        "y2=np.sin(x)+np.cos(x)\n",
        "\n",
        "plt.plot(x,y1,x,y2)\n",
        "\n",
        "plt.xticks([0,np.pi,2*np.pi])\n",
        "plt.yticks([-1,0,+1])\n",
        "\n",
        "plt.xlabel('x-axis')\n",
        "plt.ylabel('y-axis')\n",
        "plt.title('Two functions')\n",
        "plt.legend(['sin(x)','sin(x)+cos(x)'])\n",
        "\n",
        "plt.show()"
      ],
      "metadata": {
        "colab": {
          "base_uri": "https://localhost:8080/",
          "height": 295
        },
        "id": "Ry2vFdp1DW5q",
        "outputId": "2c003f16-b417-48cb-d309-08d0cd41567c"
      },
      "execution_count": 50,
      "outputs": [
        {
          "output_type": "display_data",
          "data": {
            "text/plain": [
              "<Figure size 432x288 with 1 Axes>"
            ],
            "image/png": "[encoded data removed]"
          },
          "metadata": {
            "needs_background": "light"
          }
        }
      ]
    },
    {
      "cell_type": "code",
      "source": [
        "x=np.linspace(0,2*np.pi,10)\n",
        "\n",
        "y1=np.sin(x)\n",
        "y2=np.sin(x)+np.cos(x)\n",
        "\n",
        "plt.plot(x,y1,'ro--',x,y2,'ks-')\n",
        "\n",
        "plt.xticks([0,np.pi,2*np.pi])\n",
        "plt.yticks([-1,0,+1])\n",
        "\n",
        "plt.xlabel('x-axis')\n",
        "plt.ylabel('y-axis')\n",
        "plt.title('Two functions')\n",
        "plt.legend(['sin(x)','sin(x)+cos(x)'])\n",
        "\n",
        "plt.show()"
      ],
      "metadata": {
        "colab": {
          "base_uri": "https://localhost:8080/",
          "height": 295
        },
        "id": "o_kunhTeDYM3",
        "outputId": "22078133-4b08-4fe7-fee1-43af2d05d30a"
      },
      "execution_count": 51,
      "outputs": [
        {
          "output_type": "display_data",
          "data": {
            "text/plain": [
              "<Figure size 432x288 with 1 Axes>"
            ],
            "image/png": "[encoded data removed]"
          },
          "metadata": {
            "needs_background": "light"
          }
        }
      ]
    },
    {
      "cell_type": "code",
      "source": [
        "x=np.linspace(1,6,6)\n",
        "y=np.array([10,8,4,9,5,2])\n",
        "\n",
        "plt.bar(x,y)\n",
        "plt.xlabel('x-axis')\n",
        "plt.ylabel('y-axis')\n",
        "plt.title('Bar Example')\n",
        "plt.show()"
      ],
      "metadata": {
        "colab": {
          "base_uri": "https://localhost:8080/",
          "height": 295
        },
        "id": "4bkBLyDYDaXl",
        "outputId": "ccfc7758-b2d4-4e22-fa1e-c68f1c568c6a"
      },
      "execution_count": 52,
      "outputs": [
        {
          "output_type": "display_data",
          "data": {
            "text/plain": [
              "<Figure size 432x288 with 1 Axes>"
            ],
            "image/png": "[encoded data removed]"
          },
          "metadata": {
            "needs_background": "light"
          }
        }
      ]
    },
    {
      "cell_type": "code",
      "source": [
        "import math"
      ],
      "metadata": {
        "id": "-GhZKc6KDb59"
      },
      "execution_count": 53,
      "outputs": []
    },
    {
      "cell_type": "code",
      "source": [
        "math.factorial(4)"
      ],
      "metadata": {
        "colab": {
          "base_uri": "https://localhost:8080/"
        },
        "id": "H5rvGwrXDc0-",
        "outputId": "d10a4b8a-85d6-422d-9d28-a7ec07986696"
      },
      "execution_count": 54,
      "outputs": [
        {
          "output_type": "execute_result",
          "data": {
            "text/plain": [
              "24"
            ]
          },
          "metadata": {},
          "execution_count": 54
        }
      ]
    },
    {
      "cell_type": "code",
      "source": [
        "math.pow(2,3)"
      ],
      "metadata": {
        "colab": {
          "base_uri": "https://localhost:8080/"
        },
        "id": "AbypHFKDDd2u",
        "outputId": "85f2326f-8254-4215-a39a-8a81683662a6"
      },
      "execution_count": 55,
      "outputs": [
        {
          "output_type": "execute_result",
          "data": {
            "text/plain": [
              "8.0"
            ]
          },
          "metadata": {},
          "execution_count": 55
        }
      ]
    },
    {
      "cell_type": "code",
      "source": [
        "math.log(3)"
      ],
      "metadata": {
        "colab": {
          "base_uri": "https://localhost:8080/"
        },
        "id": "WQKwQibFDe1r",
        "outputId": "33a70036-6555-4b0c-8077-73bc623cc92a"
      },
      "execution_count": 56,
      "outputs": [
        {
          "output_type": "execute_result",
          "data": {
            "text/plain": [
              "1.0986122886681098"
            ]
          },
          "metadata": {},
          "execution_count": 56
        }
      ]
    },
    {
      "cell_type": "code",
      "source": [
        "math.log(8,2)"
      ],
      "metadata": {
        "colab": {
          "base_uri": "https://localhost:8080/"
        },
        "id": "1kiFxbtkDfuU",
        "outputId": "18aeaa00-41f8-4873-9591-fb26f9d44f31"
      },
      "execution_count": 57,
      "outputs": [
        {
          "output_type": "execute_result",
          "data": {
            "text/plain": [
              "3.0"
            ]
          },
          "metadata": {},
          "execution_count": 57
        }
      ]
    },
    {
      "cell_type": "code",
      "source": [
        "math.log10(100)"
      ],
      "metadata": {
        "colab": {
          "base_uri": "https://localhost:8080/"
        },
        "id": "IOO96zhRDgzy",
        "outputId": "34119ae6-18ac-4dd9-87d1-f78edcf66f45"
      },
      "execution_count": 58,
      "outputs": [
        {
          "output_type": "execute_result",
          "data": {
            "text/plain": [
              "2.0"
            ]
          },
          "metadata": {},
          "execution_count": 58
        }
      ]
    },
    {
      "cell_type": "code",
      "source": [
        "math.degrees(180)"
      ],
      "metadata": {
        "colab": {
          "base_uri": "https://localhost:8080/"
        },
        "id": "27NHebmXDh3R",
        "outputId": "4a727de2-167a-42a8-87f8-bbc97584d176"
      },
      "execution_count": 59,
      "outputs": [
        {
          "output_type": "execute_result",
          "data": {
            "text/plain": [
              "10313.240312354817"
            ]
          },
          "metadata": {},
          "execution_count": 59
        }
      ]
    },
    {
      "cell_type": "code",
      "source": [
        "math.radians(360)"
      ],
      "metadata": {
        "colab": {
          "base_uri": "https://localhost:8080/"
        },
        "id": "qUo66__IDi4z",
        "outputId": "783b8518-a49b-4f16-df92-e22faecc89fd"
      },
      "execution_count": 60,
      "outputs": [
        {
          "output_type": "execute_result",
          "data": {
            "text/plain": [
              "6.283185307179586"
            ]
          },
          "metadata": {},
          "execution_count": 60
        }
      ]
    },
    {
      "cell_type": "code",
      "source": [
        "def func(n):\n",
        "  lv=n+1\n",
        "  print(lv)\n",
        "\n",
        "func(12)"
      ],
      "metadata": {
        "colab": {
          "base_uri": "https://localhost:8080/"
        },
        "id": "0r9rYmunDj0A",
        "outputId": "a2b6bc9d-0d44-49d4-8efc-16d1fa4ee615"
      },
      "execution_count": 61,
      "outputs": [
        {
          "output_type": "stream",
          "name": "stdout",
          "text": [
            "13\n"
          ]
        }
      ]
    },
    {
      "cell_type": "code",
      "source": [
        "n=10\n",
        "def func2():\n",
        "  lv=n+1\n",
        "  print(lv)\n",
        "\n",
        "func2()"
      ],
      "metadata": {
        "colab": {
          "base_uri": "https://localhost:8080/"
        },
        "id": "FMx5LfcPDk-y",
        "outputId": "9231485e-1b8e-495b-9b98-4726892ecfdd"
      },
      "execution_count": 62,
      "outputs": [
        {
          "output_type": "stream",
          "name": "stdout",
          "text": [
            "11\n"
          ]
        }
      ]
    },
    {
      "cell_type": "code",
      "source": [
        "print(n)"
      ],
      "metadata": {
        "colab": {
          "base_uri": "https://localhost:8080/"
        },
        "id": "_yHkxfrLDmK6",
        "outputId": "25cc6dde-9764-412d-e10d-2d3b5fce7cc5"
      },
      "execution_count": 63,
      "outputs": [
        {
          "output_type": "stream",
          "name": "stdout",
          "text": [
            "10\n"
          ]
        }
      ]
    },
    {
      "cell_type": "code",
      "source": [
        "n=10\n",
        "def func2():\n",
        "  global n\n",
        "  n=0\n",
        "  lv=n+1\n",
        "  print(lv)\n",
        "\n",
        "func2()"
      ],
      "metadata": {
        "colab": {
          "base_uri": "https://localhost:8080/"
        },
        "id": "33DsmgBwDnZn",
        "outputId": "2964a2c4-42cf-4072-e038-bb187c19a552"
      },
      "execution_count": 64,
      "outputs": [
        {
          "output_type": "stream",
          "name": "stdout",
          "text": [
            "1\n"
          ]
        }
      ]
    },
    {
      "cell_type": "code",
      "source": [
        "print(n)"
      ],
      "metadata": {
        "colab": {
          "base_uri": "https://localhost:8080/"
        },
        "id": "c6LWDF39DoZ-",
        "outputId": "98fa0745-46cc-48cd-9097-b31881625004"
      },
      "execution_count": 65,
      "outputs": [
        {
          "output_type": "stream",
          "name": "stdout",
          "text": [
            "0\n"
          ]
        }
      ]
    },
    {
      "cell_type": "code",
      "source": [
        "fa_age=39\n",
        "def up_fa_age():\n",
        "  global fa_age\n",
        "  fa_age+=1\n",
        "def get_fa_age():\n",
        "  return fa_age\n",
        "\n",
        "print(\"2019년\")\n",
        "print(\"아빠:\",get_fa_age())\n",
        "print(\"2020년\")\n",
        "up_fa_age()\n",
        "print(\"아빠:\",get_fa_age())"
      ],
      "metadata": {
        "colab": {
          "base_uri": "https://localhost:8080/"
        },
        "id": "0zyAwCIgDpVA",
        "outputId": "ca89f26f-7706-486e-fe18-a2c6166a6e27"
      },
      "execution_count": 66,
      "outputs": [
        {
          "output_type": "stream",
          "name": "stdout",
          "text": [
            "2019년\n",
            "아빠: 39\n",
            "2020년\n",
            "아빠: 40\n"
          ]
        }
      ]
    },
    {
      "cell_type": "code",
      "source": [
        "class Ageinfo:\n",
        "  def up_age(self):\n",
        "    self.age+=1\n",
        "  def get_age(self):\n",
        "    return self.age\n"
      ],
      "metadata": {
        "id": "U2OX73qjDqpz"
      },
      "execution_count": 67,
      "outputs": []
    },
    {
      "cell_type": "code",
      "source": [
        "fa=Ageinfo()\n",
        "fa.age=39\n",
        "\n",
        "print(\"아빠의 나이:\",fa.get_age())\n",
        "\n",
        "print(\"1년뒤...\")\n",
        "fa.up_age()\n",
        "\n",
        "print(\"아빠의 나이:\",fa.get_age())"
      ],
      "metadata": {
        "colab": {
          "base_uri": "https://localhost:8080/"
        },
        "id": "61fqGJp1DsFq",
        "outputId": "1adad464-dffb-4e1e-c6b2-2cdfd9f1c255"
      },
      "execution_count": 68,
      "outputs": [
        {
          "output_type": "stream",
          "name": "stdout",
          "text": [
            "아빠의 나이: 39\n",
            "1년뒤...\n",
            "아빠의 나이: 40\n"
          ]
        }
      ]
    },
    {
      "cell_type": "code",
      "source": [
        "fa=Ageinfo()\n",
        "mo=Ageinfo()\n",
        "me=Ageinfo()\n",
        "\n",
        "fa.age=50\n",
        "mo.age=49\n",
        "me.age=30\n",
        "\n",
        "print(\"아빠의 나이:\",fa.get_age())\n",
        "print(\"엄마의 나이:\",mo.get_age())\n",
        "print(\"나의 나이:\",me.get_age())\n",
        "\n",
        "print(\"1년 뒤...\")\n",
        "\n",
        "fa.up_age()\n",
        "mo.up_age()\n",
        "me.up_age()\n",
        "\n",
        "print(\"아빠의 나이:\",fa.get_age())\n",
        "print(\"엄마의 나이:\",mo.get_age())\n",
        "print(\"나의 나이:\",me.get_age())"
      ],
      "metadata": {
        "colab": {
          "base_uri": "https://localhost:8080/"
        },
        "id": "U9zV9QfvDtSB",
        "outputId": "f5494617-f84c-4b91-cd02-3f0daca60060"
      },
      "execution_count": 69,
      "outputs": [
        {
          "output_type": "stream",
          "name": "stdout",
          "text": [
            "아빠의 나이: 50\n",
            "엄마의 나이: 49\n",
            "나의 나이: 30\n",
            "1년 뒤...\n",
            "아빠의 나이: 51\n",
            "엄마의 나이: 50\n",
            "나의 나이: 31\n"
          ]
        }
      ]
    },
    {
      "cell_type": "code",
      "source": [
        "import math\n",
        "import matplotlib.pyplot as plt\n",
        "class sin_graph:\n",
        "  def generate_x_y(self):\n",
        "    self.x=[]\n",
        "    self.y=[]\n",
        "    self.dx=(self.end-self.st)/(self.n-1)\n",
        "    for i in range(self.n):\n",
        "      x_=self.st+self.dx*i\n",
        "      self.x.append(x_)\n",
        "      self.y.append(math.sin(x_))\n",
        "  def plot(self):\n",
        "    plt.plot(self.x,self.y)\n",
        "    plt.show()"
      ],
      "metadata": {
        "id": "jc42rlrGDunO"
      },
      "execution_count": 70,
      "outputs": []
    },
    {
      "cell_type": "code",
      "source": [
        "g1=sin_graph()\n",
        "g1.st=0\n",
        "g1.end=2*math.pi\n",
        "g1.n=10\n",
        "g1.generate_x_y()\n",
        "g1.plot()"
      ],
      "metadata": {
        "colab": {
          "base_uri": "https://localhost:8080/",
          "height": 265
        },
        "id": "o2IOP5zsDv8m",
        "outputId": "c97c5289-9493-4598-9d73-70cf78b8b0f9"
      },
      "execution_count": 71,
      "outputs": [
        {
          "output_type": "display_data",
          "data": {
            "text/plain": [
              "<Figure size 432x288 with 1 Axes>"
            ],
            "image/png": "[encoded data removed]"
          },
          "metadata": {
            "needs_background": "light"
          }
        }
      ]
    },
    {
      "cell_type": "code",
      "source": [
        "class sin_graph:\n",
        "  def setting(self,st,ed,n):\n",
        "    self.st=st\n",
        "    self.ed=ed\n",
        "    self.n=n\n",
        "  def generate_x_y(self):\n",
        "    self.x=[]\n",
        "    self.y=[]\n",
        "    self.dx=(self.ed-self.st)/(self.n-1)\n",
        "    for i in range(self.n):\n",
        "      x_=self.st+self.dx*i\n",
        "      self.x.append(x_)\n",
        "      self.y.append(math.sin(x_))\n",
        "  def plot(self):\n",
        "    plt.plot(self.x,self.y)\n",
        "    plt.show"
      ],
      "metadata": {
        "id": "-jj09-9DDw_G"
      },
      "execution_count": 72,
      "outputs": []
    },
    {
      "cell_type": "code",
      "source": [
        "g2=sin_graph()\n",
        "g2.setting(0,4*math.pi,100)\n",
        "g2.generate_x_y()\n",
        "g2.plot()"
      ],
      "metadata": {
        "colab": {
          "base_uri": "https://localhost:8080/",
          "height": 265
        },
        "id": "-BF-_wjADyX2",
        "outputId": "e3c0ad8b-03d3-41e3-fe61-ae9a4ccf9ce5"
      },
      "execution_count": 73,
      "outputs": [
        {
          "output_type": "display_data",
          "data": {
            "text/plain": [
              "<Figure size 432x288 with 1 Axes>"
            ],
            "image/png": "[encoded data removed]"
          },
          "metadata": {
            "needs_background": "light"
          }
        }
      ]
    },
    {
      "cell_type": "code",
      "source": [
        "class cos_graph:\n",
        "  def setting(self,st,ed,n):\n",
        "    self.st=st\n",
        "    self.ed=ed\n",
        "    self.n=n\n",
        "  def generate_x_y(self):\n",
        "    self.x=[]\n",
        "    self.y=[]\n",
        "    self.dx=(self.ed-self.st)/(self.n-1)\n",
        "    for i in range(self.n):\n",
        "      x_=self.st+self.dx*i\n",
        "      self.x.append(x_)\n",
        "      self.y.append(math.cos(x_))\n",
        "  def plot(self):\n",
        "    plt.plot(self.x,self.y)\n",
        "    plt.show\n"
      ],
      "metadata": {
        "id": "IQdkuNu2DzfQ"
      },
      "execution_count": 74,
      "outputs": []
    },
    {
      "cell_type": "code",
      "source": [
        "g1=cos_graph()\n",
        "g1.setting(0,2*math.pi,100)\n",
        "g1.generate_x_y()\n",
        "g1.plot()"
      ],
      "metadata": {
        "colab": {
          "base_uri": "https://localhost:8080/",
          "height": 265
        },
        "id": "kVYl4IJMD1UI",
        "outputId": "ce2c416c-f957-4b76-bc21-82788c7306a2"
      },
      "execution_count": 75,
      "outputs": [
        {
          "output_type": "display_data",
          "data": {
            "text/plain": [
              "<Figure size 432x288 with 1 Axes>"
            ],
            "image/png": "[encoded data removed]"
          },
          "metadata": {
            "needs_background": "light"
          }
        }
      ]
    },
    {
      "cell_type": "code",
      "source": [
        "g2=cos_graph()\n",
        "g2.setting(0,4*math.pi,100)\n",
        "g2.generate_x_y()\n",
        "g2.plot()"
      ],
      "metadata": {
        "colab": {
          "base_uri": "https://localhost:8080/",
          "height": 265
        },
        "id": "Pl6y0CccD2Qu",
        "outputId": "736d1027-1779-4e5d-c772-b4aa15e4b2f6"
      },
      "execution_count": 76,
      "outputs": [
        {
          "output_type": "display_data",
          "data": {
            "text/plain": [
              "<Figure size 432x288 with 1 Axes>"
            ],
            "image/png": "[encoded data removed]"
          },
          "metadata": {
            "needs_background": "light"
          }
        }
      ]
    },
    {
      "cell_type": "code",
      "source": [
        "class Const:\n",
        "  def __init__(self):\n",
        "    print(\"new~\")\n",
        "\n",
        "o1=Const()\n",
        "o2=Const()"
      ],
      "metadata": {
        "colab": {
          "base_uri": "https://localhost:8080/"
        },
        "id": "sT6zEnmaD3mG",
        "outputId": "491beaf5-1a1e-421c-c136-559692e82336"
      },
      "execution_count": 77,
      "outputs": [
        {
          "output_type": "stream",
          "name": "stdout",
          "text": [
            "new~\n",
            "new~\n"
          ]
        }
      ]
    },
    {
      "cell_type": "code",
      "source": [
        "class Const:\n",
        "  def __init__(self,n1,n2):\n",
        "    self.n1=n1\n",
        "    self.n2=n2\n",
        "  def show_data(self):\n",
        "    print(self.n1,self.n2)\n",
        "\n",
        "o1=Const(1,2)\n",
        "o2=Const(3,4)"
      ],
      "metadata": {
        "id": "UhHccIBUD40C"
      },
      "execution_count": 78,
      "outputs": []
    },
    {
      "cell_type": "code",
      "source": [
        "o1.show_data()\n",
        "o2.show_data()"
      ],
      "metadata": {
        "colab": {
          "base_uri": "https://localhost:8080/"
        },
        "id": "mZ6k0UkCD5-n",
        "outputId": "16d2dd97-d7cb-4451-ff51-efd4371059ad"
      },
      "execution_count": 79,
      "outputs": [
        {
          "output_type": "stream",
          "name": "stdout",
          "text": [
            "1 2\n",
            "3 4\n"
          ]
        }
      ]
    },
    {
      "cell_type": "code",
      "source": [
        "fn=\"I_have_a_dream.txt\"\n",
        "class text_static:\n",
        "  def processLine(self,line,wordCounts):\n",
        "    line=self.replacePunctuations(line)\n",
        "    words=line.split()\n",
        "    for word in words:\n",
        "      if word in wordCounts:\n",
        "        wordCounts[word]+=1\n",
        "      else:\n",
        "        wordCounts[word]=1\n",
        "\n",
        "  def replacePunctuations(self,line):\n",
        "    for ch in line:\n",
        "      if ch in \" \":\n",
        "        line=line.replace(ch,\" \")\n",
        "\n",
        "    return line\n",
        "\n",
        "  def wordCounts(self,filename):\n",
        "    f=open(\"I_have_a_dream.txt\",\"r\")\n",
        "    lines=f.readlines()\n",
        "    wordCounts={}\n",
        "    for line in lines:\n",
        "      self.processLine(line.lower(),wordCounts)\n",
        "    return wordCounts\n",
        "\n",
        "  def arrange_pairs(self,wordCounts):\n",
        "    pairs=list(wordCounts.items())\n",
        "    items=[[x,y] for(y,x) in pairs]\n",
        "    items.sort()\n",
        "    items={x:y for [y,x] in items}\n",
        "    return items"
      ],
      "metadata": {
        "id": "E9-P1sMgD7Jv"
      },
      "execution_count": 80,
      "outputs": []
    },
    {
      "cell_type": "code",
      "source": [
        "T=text_static()"
      ],
      "metadata": {
        "id": "91OgP2isERj6"
      },
      "execution_count": 81,
      "outputs": []
    },
    {
      "cell_type": "code",
      "source": [
        "fn=\"I_have_a_dream.txt\""
      ],
      "metadata": {
        "id": "Wlcw-KYNETSF"
      },
      "execution_count": 82,
      "outputs": []
    },
    {
      "cell_type": "code",
      "source": [
        "wordCounts=T.wordCounts(fn)"
      ],
      "metadata": {
        "id": "pUzn7Yn4EUPc"
      },
      "execution_count": 83,
      "outputs": []
    },
    {
      "cell_type": "code",
      "source": [
        "wordCounts"
      ],
      "metadata": {
        "colab": {
          "base_uri": "https://localhost:8080/"
        },
        "id": "CNzSqJKyEVI5",
        "outputId": "df354859-98c4-4bce-b36f-c563d3208de8"
      },
      "execution_count": 84,
      "outputs": [
        {
          "output_type": "execute_result",
          "data": {
            "text/plain": [
              "{'\"for': 1,\n",
              " '\"insufficient': 1,\n",
              " '\"justice': 1,\n",
              " '\"life,': 1,\n",
              " '\"unalienable': 1,\n",
              " '\"when': 1,\n",
              " '**we': 1,\n",
              " 'a': 22,\n",
              " 'again': 1,\n",
              " 'again,': 1,\n",
              " 'ago,': 1,\n",
              " 'ahead.': 1,\n",
              " 'all': 3,\n",
              " 'allow': 1,\n",
              " 'alone.': 1,\n",
              " 'also': 1,\n",
              " 'always': 1,\n",
              " 'am': 1,\n",
              " 'america': 4,\n",
              " 'american': 2,\n",
              " 'american,': 1,\n",
              " 'an': 3,\n",
              " 'and': 22,\n",
              " 'architects': 1,\n",
              " 'are': 6,\n",
              " 'as': 19,\n",
              " 'asking': 1,\n",
              " 'autumn': 1,\n",
              " 'awakening': 1,\n",
              " 'back': 1,\n",
              " 'back.': 1,\n",
              " 'bad': 1,\n",
              " 'bank': 1,\n",
              " 'bankrupt.': 1,\n",
              " 'basic': 1,\n",
              " 'be': 12,\n",
              " 'beacon': 1,\n",
              " 'been': 1,\n",
              " 'beginning.': 1,\n",
              " 'believe': 2,\n",
              " 'believes': 1,\n",
              " 'bitterness': 1,\n",
              " 'black': 1,\n",
              " 'blow': 1,\n",
              " 'bodies,': 1,\n",
              " 'bound': 1,\n",
              " 'bright': 1,\n",
              " 'brotherhood.': 1,\n",
              " 'brothers,': 1,\n",
              " 'brutality.': 1,\n",
              " 'business': 1,\n",
              " 'but': 4,\n",
              " 'by': 4,\n",
              " 'came': 2,\n",
              " 'can': 3,\n",
              " 'cannot': 6,\n",
              " 'capital': 1,\n",
              " 'captivity.': 1,\n",
              " 'cash': 2,\n",
              " 'chains': 1,\n",
              " 'check': 2,\n",
              " 'check,': 2,\n",
              " 'check.': 1,\n",
              " 'children': 1,\n",
              " 'children.': 1,\n",
              " 'cities.': 1,\n",
              " 'citizens': 1,\n",
              " 'citizenship': 1,\n",
              " 'civil': 1,\n",
              " 'color': 1,\n",
              " 'come': 7,\n",
              " 'community': 1,\n",
              " 'concerned.': 1,\n",
              " 'condition.': 1,\n",
              " 'conduct': 1,\n",
              " 'constitution': 1,\n",
              " 'content': 1,\n",
              " 'continue': 1,\n",
              " 'cooling': 1,\n",
              " 'corners': 1,\n",
              " 'creative': 1,\n",
              " 'crippled': 1,\n",
              " 'cup': 1,\n",
              " 'dark': 1,\n",
              " 'day': 1,\n",
              " 'daybreak': 1,\n",
              " 'declaration': 1,\n",
              " 'decree': 1,\n",
              " 'deeds.': 1,\n",
              " 'defaulted': 1,\n",
              " 'degenerate': 1,\n",
              " 'demand': 1,\n",
              " 'democracy.': 1,\n",
              " 'demonstration': 1,\n",
              " 'desolate': 1,\n",
              " 'destiny': 1,\n",
              " 'destiny.': 1,\n",
              " 'devotees': 1,\n",
              " 'dignity': 2,\n",
              " 'discipline.': 1,\n",
              " 'discontent': 1,\n",
              " 'discrimination.': 1,\n",
              " 'distrust': 1,\n",
              " 'down': 2,\n",
              " 'dramatize': 1,\n",
              " 'drinking': 1,\n",
              " 'drug': 1,\n",
              " 'emancipation': 1,\n",
              " 'emerges.': 1,\n",
              " 'end': 1,\n",
              " 'end,': 1,\n",
              " 'engage': 1,\n",
              " 'engulfed': 1,\n",
              " 'equality.': 1,\n",
              " 'every': 1,\n",
              " 'evidenced': 1,\n",
              " 'exile': 1,\n",
              " 'fall': 1,\n",
              " 'fatal': 1,\n",
              " 'fatigue': 1,\n",
              " 'fierce': 1,\n",
              " 'finds': 1,\n",
              " 'five': 1,\n",
              " 'flames': 1,\n",
              " 'for': 6,\n",
              " 'force': 1,\n",
              " 'force.': 1,\n",
              " 'forever': 1,\n",
              " 'foundations': 1,\n",
              " 'free.': 1,\n",
              " 'freedom': 5,\n",
              " 'freedom.': 1,\n",
              " 'from': 4,\n",
              " 'funds': 1,\n",
              " 'funds.\"': 1,\n",
              " 'gain': 1,\n",
              " 'gaining': 1,\n",
              " 'ghetto': 1,\n",
              " 'give': 1,\n",
              " 'given': 1,\n",
              " 'go': 1,\n",
              " \"god's\": 1,\n",
              " 'gradualism.': 1,\n",
              " 'granted': 1,\n",
              " 'great': 3,\n",
              " 'greatest': 1,\n",
              " 'guaranteed': 1,\n",
              " 'guilty': 1,\n",
              " 'had': 1,\n",
              " 'hallowed': 1,\n",
              " 'happiness.\"': 1,\n",
              " 'happy': 1,\n",
              " 'has': 5,\n",
              " 'hatred.': 1,\n",
              " 'have': 4,\n",
              " 'he': 1,\n",
              " 'heavy': 1,\n",
              " 'heights': 1,\n",
              " 'heir.': 1,\n",
              " 'her': 1,\n",
              " 'here': 2,\n",
              " 'high': 1,\n",
              " 'highways': 1,\n",
              " 'himself': 1,\n",
              " 'his': 2,\n",
              " 'history': 2,\n",
              " 'honoring': 1,\n",
              " 'hope': 2,\n",
              " 'horrors': 1,\n",
              " 'hotels': 1,\n",
              " 'hundred': 4,\n",
              " 'i': 2,\n",
              " 'if': 1,\n",
              " 'in': 16,\n",
              " 'independence,': 1,\n",
              " 'inextricably': 1,\n",
              " 'injustice': 1,\n",
              " 'injustice.': 1,\n",
              " 'insofar': 1,\n",
              " 'instead': 1,\n",
              " 'insufficient': 1,\n",
              " 'into': 2,\n",
              " 'invigorating': 1,\n",
              " 'is': 18,\n",
              " 'island': 1,\n",
              " 'it': 3,\n",
              " 'join': 1,\n",
              " 'joyous': 1,\n",
              " 'justice': 3,\n",
              " 'justice.': 2,\n",
              " 'justice:': 1,\n",
              " 'land.': 1,\n",
              " 'languished': 1,\n",
              " 'larger': 1,\n",
              " 'later,': 4,\n",
              " 'lead': 1,\n",
              " 'leads': 1,\n",
              " 'legitimate': 1,\n",
              " 'let': 1,\n",
              " 'liberty': 1,\n",
              " 'life': 1,\n",
              " 'lift': 1,\n",
              " 'light': 1,\n",
              " 'like': 2,\n",
              " 'lives': 1,\n",
              " 'lodging': 1,\n",
              " 'lonely': 1,\n",
              " 'long': 6,\n",
              " 'luxury': 1,\n",
              " 'magnificent': 1,\n",
              " 'majestic': 1,\n",
              " 'make': 3,\n",
              " 'manacles': 1,\n",
              " 'many': 1,\n",
              " 'march': 1,\n",
              " 'marked': 1,\n",
              " 'marvelous': 1,\n",
              " 'material': 1,\n",
              " 'meeting': 1,\n",
              " 'men': 1,\n",
              " 'men,': 2,\n",
              " 'midst': 1,\n",
              " 'mighty': 1,\n",
              " 'militancy': 1,\n",
              " 'millions': 1,\n",
              " 'mississippi': 1,\n",
              " 'mobility': 1,\n",
              " 'moment.': 1,\n",
              " 'momentous': 1,\n",
              " 'motels': 1,\n",
              " 'must': 7,\n",
              " 'my': 1,\n",
              " 'nation': 4,\n",
              " \"nation's\": 1,\n",
              " 'nation.': 2,\n",
              " 'needed': 1,\n",
              " 'negro': 12,\n",
              " \"negro's\": 2,\n",
              " 'neither': 1,\n",
              " 'never': 3,\n",
              " 'new': 2,\n",
              " 'night': 1,\n",
              " 'nineteen': 1,\n",
              " 'no': 1,\n",
              " 'no,': 2,\n",
              " 'nor': 1,\n",
              " 'not': 9,\n",
              " 'note': 2,\n",
              " 'note,': 1,\n",
              " 'nothing': 1,\n",
              " 'now': 5,\n",
              " 'now.': 1,\n",
              " 'obligation,': 1,\n",
              " 'obvious': 1,\n",
              " 'ocean': 1,\n",
              " 'of': 56,\n",
              " 'off': 2,\n",
              " 'on': 4,\n",
              " 'one': 4,\n",
              " 'one.': 1,\n",
              " 'only.\"**': 1,\n",
              " 'opportunity': 1,\n",
              " 'or': 1,\n",
              " 'our': 14,\n",
              " 'overlook': 1,\n",
              " 'own': 1,\n",
              " 'palace': 1,\n",
              " 'pass': 1,\n",
              " 'path': 1,\n",
              " 'people': 1,\n",
              " 'people,': 2,\n",
              " 'physical': 2,\n",
              " 'place,': 1,\n",
              " 'plane': 1,\n",
              " 'pledge': 1,\n",
              " 'police': 1,\n",
              " 'poverty': 1,\n",
              " 'presence': 1,\n",
              " 'process': 1,\n",
              " 'proclamation.': 1,\n",
              " 'promise': 1,\n",
              " 'promises': 1,\n",
              " 'promissory': 2,\n",
              " 'prosperity.': 1,\n",
              " 'protest': 1,\n",
              " 'pursuit': 1,\n",
              " 'quicksands': 1,\n",
              " 'racial': 2,\n",
              " 'real': 1,\n",
              " 'reality': 1,\n",
              " 'realize': 2,\n",
              " 'refuse': 2,\n",
              " 'remind': 1,\n",
              " 'republic': 1,\n",
              " 'rest': 1,\n",
              " 'returns': 1,\n",
              " 'revolt': 1,\n",
              " 'riches': 1,\n",
              " 'righteousness': 1,\n",
              " 'rightful': 1,\n",
              " 'rights\"': 1,\n",
              " 'rights,': 1,\n",
              " 'rights.': 1,\n",
              " 'rise': 2,\n",
              " 'robbed': 1,\n",
              " 'rock': 1,\n",
              " 'rolls': 1,\n",
              " 'rude': 1,\n",
              " 'sacred': 1,\n",
              " 'sadly': 1,\n",
              " 'satisfied': 6,\n",
              " 'satisfied,': 1,\n",
              " 'satisfied?\"': 1,\n",
              " 'satisfy': 1,\n",
              " 'say': 1,\n",
              " 'score': 1,\n",
              " 'seared': 1,\n",
              " 'security': 1,\n",
              " 'seek': 1,\n",
              " 'segregation': 2,\n",
              " 'self-hood': 1,\n",
              " 'sense': 1,\n",
              " 'shadow': 1,\n",
              " 'shake': 1,\n",
              " 'shall': 1,\n",
              " 'shameful': 1,\n",
              " 'signed': 1,\n",
              " 'signing': 1,\n",
              " 'signs': 1,\n",
              " 'sixty-three': 1,\n",
              " 'slaves': 1,\n",
              " 'smaller': 1,\n",
              " 'so': 1,\n",
              " 'so,': 1,\n",
              " 'society': 1,\n",
              " 'solid': 1,\n",
              " 'something': 1,\n",
              " 'soul': 1,\n",
              " 'spot': 1,\n",
              " 'stand': 2,\n",
              " 'stating:': 1,\n",
              " 'steam': 1,\n",
              " 'still': 3,\n",
              " 'stream.\"1': 1,\n",
              " 'stripped': 1,\n",
              " 'struggle': 1,\n",
              " 'summer': 1,\n",
              " 'sunlit': 1,\n",
              " 'sweltering': 1,\n",
              " 'symbolic': 1,\n",
              " 'take': 1,\n",
              " 'that': 10,\n",
              " 'the': 66,\n",
              " 'their': 6,\n",
              " 'there': 5,\n",
              " 'they': 2,\n",
              " 'thirst': 1,\n",
              " 'this': 9,\n",
              " 'those': 2,\n",
              " 'threshold': 1,\n",
              " 'tied': 1,\n",
              " 'time': 5,\n",
              " 'to': 35,\n",
              " 'today': 3,\n",
              " 'today,': 2,\n",
              " 'tranquility': 1,\n",
              " 'tranquilizing': 1,\n",
              " 'travel,': 1,\n",
              " 'turn': 1,\n",
              " 'unspeakable': 1,\n",
              " 'until': 4,\n",
              " 'up': 1,\n",
              " 'upon': 1,\n",
              " 'urgency': 2,\n",
              " 'us': 3,\n",
              " 'usual.': 1,\n",
              " 'valley': 1,\n",
              " 'vast': 1,\n",
              " 'vaults': 1,\n",
              " 'victim': 1,\n",
              " 'violence.': 1,\n",
              " 'vote': 1,\n",
              " 'vote.': 1,\n",
              " 'walk': 1,\n",
              " 'walk,': 1,\n",
              " 'warm': 1,\n",
              " 'was': 2,\n",
              " 'waters,': 1,\n",
              " 'we': 19,\n",
              " \"we've\": 3,\n",
              " 'well': 1,\n",
              " 'were': 1,\n",
              " 'what': 1,\n",
              " 'when': 1,\n",
              " 'which': 5,\n",
              " 'whirlwinds': 1,\n",
              " 'white': 3,\n",
              " 'whites': 1,\n",
              " 'who': 4,\n",
              " 'whose': 1,\n",
              " 'will': 9,\n",
              " 'with': 4,\n",
              " 'withering': 1,\n",
              " 'words': 1,\n",
              " 'would': 2,\n",
              " 'wrongful': 1,\n",
              " 'wrote': 1,\n",
              " 'years': 5,\n",
              " 'yes,': 1,\n",
              " 'york': 1,\n",
              " 'you': 2}"
            ]
          },
          "metadata": {},
          "execution_count": 84
        }
      ]
    },
    {
      "cell_type": "code",
      "source": [
        "wordCounts=T.arrange_pairs(wordCounts)"
      ],
      "metadata": {
        "id": "1ISEltkuEWDv"
      },
      "execution_count": 85,
      "outputs": []
    },
    {
      "cell_type": "code",
      "source": [
        "wordCounts"
      ],
      "metadata": {
        "colab": {
          "base_uri": "https://localhost:8080/"
        },
        "id": "Yf6eydPWEZ4G",
        "outputId": "410e5277-41a2-4599-efc4-fbde2cccd6c7"
      },
      "execution_count": 86,
      "outputs": [
        {
          "output_type": "execute_result",
          "data": {
            "text/plain": [
              "{'\"for': 1,\n",
              " '\"insufficient': 1,\n",
              " '\"justice': 1,\n",
              " '\"life,': 1,\n",
              " '\"unalienable': 1,\n",
              " '\"when': 1,\n",
              " '**we': 1,\n",
              " 'a': 22,\n",
              " 'again': 1,\n",
              " 'again,': 1,\n",
              " 'ago,': 1,\n",
              " 'ahead.': 1,\n",
              " 'all': 3,\n",
              " 'allow': 1,\n",
              " 'alone.': 1,\n",
              " 'also': 1,\n",
              " 'always': 1,\n",
              " 'am': 1,\n",
              " 'america': 4,\n",
              " 'american': 2,\n",
              " 'american,': 1,\n",
              " 'an': 3,\n",
              " 'and': 22,\n",
              " 'architects': 1,\n",
              " 'are': 6,\n",
              " 'as': 19,\n",
              " 'asking': 1,\n",
              " 'autumn': 1,\n",
              " 'awakening': 1,\n",
              " 'back': 1,\n",
              " 'back.': 1,\n",
              " 'bad': 1,\n",
              " 'bank': 1,\n",
              " 'bankrupt.': 1,\n",
              " 'basic': 1,\n",
              " 'be': 12,\n",
              " 'beacon': 1,\n",
              " 'been': 1,\n",
              " 'beginning.': 1,\n",
              " 'believe': 2,\n",
              " 'believes': 1,\n",
              " 'bitterness': 1,\n",
              " 'black': 1,\n",
              " 'blow': 1,\n",
              " 'bodies,': 1,\n",
              " 'bound': 1,\n",
              " 'bright': 1,\n",
              " 'brotherhood.': 1,\n",
              " 'brothers,': 1,\n",
              " 'brutality.': 1,\n",
              " 'business': 1,\n",
              " 'but': 4,\n",
              " 'by': 4,\n",
              " 'came': 2,\n",
              " 'can': 3,\n",
              " 'cannot': 6,\n",
              " 'capital': 1,\n",
              " 'captivity.': 1,\n",
              " 'cash': 2,\n",
              " 'chains': 1,\n",
              " 'check': 2,\n",
              " 'check,': 2,\n",
              " 'check.': 1,\n",
              " 'children': 1,\n",
              " 'children.': 1,\n",
              " 'cities.': 1,\n",
              " 'citizens': 1,\n",
              " 'citizenship': 1,\n",
              " 'civil': 1,\n",
              " 'color': 1,\n",
              " 'come': 7,\n",
              " 'community': 1,\n",
              " 'concerned.': 1,\n",
              " 'condition.': 1,\n",
              " 'conduct': 1,\n",
              " 'constitution': 1,\n",
              " 'content': 1,\n",
              " 'continue': 1,\n",
              " 'cooling': 1,\n",
              " 'corners': 1,\n",
              " 'creative': 1,\n",
              " 'crippled': 1,\n",
              " 'cup': 1,\n",
              " 'dark': 1,\n",
              " 'day': 1,\n",
              " 'daybreak': 1,\n",
              " 'declaration': 1,\n",
              " 'decree': 1,\n",
              " 'deeds.': 1,\n",
              " 'defaulted': 1,\n",
              " 'degenerate': 1,\n",
              " 'demand': 1,\n",
              " 'democracy.': 1,\n",
              " 'demonstration': 1,\n",
              " 'desolate': 1,\n",
              " 'destiny': 1,\n",
              " 'destiny.': 1,\n",
              " 'devotees': 1,\n",
              " 'dignity': 2,\n",
              " 'discipline.': 1,\n",
              " 'discontent': 1,\n",
              " 'discrimination.': 1,\n",
              " 'distrust': 1,\n",
              " 'down': 2,\n",
              " 'dramatize': 1,\n",
              " 'drinking': 1,\n",
              " 'drug': 1,\n",
              " 'emancipation': 1,\n",
              " 'emerges.': 1,\n",
              " 'end': 1,\n",
              " 'end,': 1,\n",
              " 'engage': 1,\n",
              " 'engulfed': 1,\n",
              " 'equality.': 1,\n",
              " 'every': 1,\n",
              " 'evidenced': 1,\n",
              " 'exile': 1,\n",
              " 'fall': 1,\n",
              " 'fatal': 1,\n",
              " 'fatigue': 1,\n",
              " 'fierce': 1,\n",
              " 'finds': 1,\n",
              " 'five': 1,\n",
              " 'flames': 1,\n",
              " 'for': 6,\n",
              " 'force': 1,\n",
              " 'force.': 1,\n",
              " 'forever': 1,\n",
              " 'foundations': 1,\n",
              " 'free.': 1,\n",
              " 'freedom': 5,\n",
              " 'freedom.': 1,\n",
              " 'from': 4,\n",
              " 'funds': 1,\n",
              " 'funds.\"': 1,\n",
              " 'gain': 1,\n",
              " 'gaining': 1,\n",
              " 'ghetto': 1,\n",
              " 'give': 1,\n",
              " 'given': 1,\n",
              " 'go': 1,\n",
              " \"god's\": 1,\n",
              " 'gradualism.': 1,\n",
              " 'granted': 1,\n",
              " 'great': 3,\n",
              " 'greatest': 1,\n",
              " 'guaranteed': 1,\n",
              " 'guilty': 1,\n",
              " 'had': 1,\n",
              " 'hallowed': 1,\n",
              " 'happiness.\"': 1,\n",
              " 'happy': 1,\n",
              " 'has': 5,\n",
              " 'hatred.': 1,\n",
              " 'have': 4,\n",
              " 'he': 1,\n",
              " 'heavy': 1,\n",
              " 'heights': 1,\n",
              " 'heir.': 1,\n",
              " 'her': 1,\n",
              " 'here': 2,\n",
              " 'high': 1,\n",
              " 'highways': 1,\n",
              " 'himself': 1,\n",
              " 'his': 2,\n",
              " 'history': 2,\n",
              " 'honoring': 1,\n",
              " 'hope': 2,\n",
              " 'horrors': 1,\n",
              " 'hotels': 1,\n",
              " 'hundred': 4,\n",
              " 'i': 2,\n",
              " 'if': 1,\n",
              " 'in': 16,\n",
              " 'independence,': 1,\n",
              " 'inextricably': 1,\n",
              " 'injustice': 1,\n",
              " 'injustice.': 1,\n",
              " 'insofar': 1,\n",
              " 'instead': 1,\n",
              " 'insufficient': 1,\n",
              " 'into': 2,\n",
              " 'invigorating': 1,\n",
              " 'is': 18,\n",
              " 'island': 1,\n",
              " 'it': 3,\n",
              " 'join': 1,\n",
              " 'joyous': 1,\n",
              " 'justice': 3,\n",
              " 'justice.': 2,\n",
              " 'justice:': 1,\n",
              " 'land.': 1,\n",
              " 'languished': 1,\n",
              " 'larger': 1,\n",
              " 'later,': 4,\n",
              " 'lead': 1,\n",
              " 'leads': 1,\n",
              " 'legitimate': 1,\n",
              " 'let': 1,\n",
              " 'liberty': 1,\n",
              " 'life': 1,\n",
              " 'lift': 1,\n",
              " 'light': 1,\n",
              " 'like': 2,\n",
              " 'lives': 1,\n",
              " 'lodging': 1,\n",
              " 'lonely': 1,\n",
              " 'long': 6,\n",
              " 'luxury': 1,\n",
              " 'magnificent': 1,\n",
              " 'majestic': 1,\n",
              " 'make': 3,\n",
              " 'manacles': 1,\n",
              " 'many': 1,\n",
              " 'march': 1,\n",
              " 'marked': 1,\n",
              " 'marvelous': 1,\n",
              " 'material': 1,\n",
              " 'meeting': 1,\n",
              " 'men': 1,\n",
              " 'men,': 2,\n",
              " 'midst': 1,\n",
              " 'mighty': 1,\n",
              " 'militancy': 1,\n",
              " 'millions': 1,\n",
              " 'mississippi': 1,\n",
              " 'mobility': 1,\n",
              " 'moment.': 1,\n",
              " 'momentous': 1,\n",
              " 'motels': 1,\n",
              " 'must': 7,\n",
              " 'my': 1,\n",
              " 'nation': 4,\n",
              " \"nation's\": 1,\n",
              " 'nation.': 2,\n",
              " 'needed': 1,\n",
              " 'negro': 12,\n",
              " \"negro's\": 2,\n",
              " 'neither': 1,\n",
              " 'never': 3,\n",
              " 'new': 2,\n",
              " 'night': 1,\n",
              " 'nineteen': 1,\n",
              " 'no': 1,\n",
              " 'no,': 2,\n",
              " 'nor': 1,\n",
              " 'not': 9,\n",
              " 'note': 2,\n",
              " 'note,': 1,\n",
              " 'nothing': 1,\n",
              " 'now': 5,\n",
              " 'now.': 1,\n",
              " 'obligation,': 1,\n",
              " 'obvious': 1,\n",
              " 'ocean': 1,\n",
              " 'of': 56,\n",
              " 'off': 2,\n",
              " 'on': 4,\n",
              " 'one': 4,\n",
              " 'one.': 1,\n",
              " 'only.\"**': 1,\n",
              " 'opportunity': 1,\n",
              " 'or': 1,\n",
              " 'our': 14,\n",
              " 'overlook': 1,\n",
              " 'own': 1,\n",
              " 'palace': 1,\n",
              " 'pass': 1,\n",
              " 'path': 1,\n",
              " 'people': 1,\n",
              " 'people,': 2,\n",
              " 'physical': 2,\n",
              " 'place,': 1,\n",
              " 'plane': 1,\n",
              " 'pledge': 1,\n",
              " 'police': 1,\n",
              " 'poverty': 1,\n",
              " 'presence': 1,\n",
              " 'process': 1,\n",
              " 'proclamation.': 1,\n",
              " 'promise': 1,\n",
              " 'promises': 1,\n",
              " 'promissory': 2,\n",
              " 'prosperity.': 1,\n",
              " 'protest': 1,\n",
              " 'pursuit': 1,\n",
              " 'quicksands': 1,\n",
              " 'racial': 2,\n",
              " 'real': 1,\n",
              " 'reality': 1,\n",
              " 'realize': 2,\n",
              " 'refuse': 2,\n",
              " 'remind': 1,\n",
              " 'republic': 1,\n",
              " 'rest': 1,\n",
              " 'returns': 1,\n",
              " 'revolt': 1,\n",
              " 'riches': 1,\n",
              " 'righteousness': 1,\n",
              " 'rightful': 1,\n",
              " 'rights\"': 1,\n",
              " 'rights,': 1,\n",
              " 'rights.': 1,\n",
              " 'rise': 2,\n",
              " 'robbed': 1,\n",
              " 'rock': 1,\n",
              " 'rolls': 1,\n",
              " 'rude': 1,\n",
              " 'sacred': 1,\n",
              " 'sadly': 1,\n",
              " 'satisfied': 6,\n",
              " 'satisfied,': 1,\n",
              " 'satisfied?\"': 1,\n",
              " 'satisfy': 1,\n",
              " 'say': 1,\n",
              " 'score': 1,\n",
              " 'seared': 1,\n",
              " 'security': 1,\n",
              " 'seek': 1,\n",
              " 'segregation': 2,\n",
              " 'self-hood': 1,\n",
              " 'sense': 1,\n",
              " 'shadow': 1,\n",
              " 'shake': 1,\n",
              " 'shall': 1,\n",
              " 'shameful': 1,\n",
              " 'signed': 1,\n",
              " 'signing': 1,\n",
              " 'signs': 1,\n",
              " 'sixty-three': 1,\n",
              " 'slaves': 1,\n",
              " 'smaller': 1,\n",
              " 'so': 1,\n",
              " 'so,': 1,\n",
              " 'society': 1,\n",
              " 'solid': 1,\n",
              " 'something': 1,\n",
              " 'soul': 1,\n",
              " 'spot': 1,\n",
              " 'stand': 2,\n",
              " 'stating:': 1,\n",
              " 'steam': 1,\n",
              " 'still': 3,\n",
              " 'stream.\"1': 1,\n",
              " 'stripped': 1,\n",
              " 'struggle': 1,\n",
              " 'summer': 1,\n",
              " 'sunlit': 1,\n",
              " 'sweltering': 1,\n",
              " 'symbolic': 1,\n",
              " 'take': 1,\n",
              " 'that': 10,\n",
              " 'the': 66,\n",
              " 'their': 6,\n",
              " 'there': 5,\n",
              " 'they': 2,\n",
              " 'thirst': 1,\n",
              " 'this': 9,\n",
              " 'those': 2,\n",
              " 'threshold': 1,\n",
              " 'tied': 1,\n",
              " 'time': 5,\n",
              " 'to': 35,\n",
              " 'today': 3,\n",
              " 'today,': 2,\n",
              " 'tranquility': 1,\n",
              " 'tranquilizing': 1,\n",
              " 'travel,': 1,\n",
              " 'turn': 1,\n",
              " 'unspeakable': 1,\n",
              " 'until': 4,\n",
              " 'up': 1,\n",
              " 'upon': 1,\n",
              " 'urgency': 2,\n",
              " 'us': 3,\n",
              " 'usual.': 1,\n",
              " 'valley': 1,\n",
              " 'vast': 1,\n",
              " 'vaults': 1,\n",
              " 'victim': 1,\n",
              " 'violence.': 1,\n",
              " 'vote': 1,\n",
              " 'vote.': 1,\n",
              " 'walk': 1,\n",
              " 'walk,': 1,\n",
              " 'warm': 1,\n",
              " 'was': 2,\n",
              " 'waters,': 1,\n",
              " 'we': 19,\n",
              " \"we've\": 3,\n",
              " 'well': 1,\n",
              " 'were': 1,\n",
              " 'what': 1,\n",
              " 'when': 1,\n",
              " 'which': 5,\n",
              " 'whirlwinds': 1,\n",
              " 'white': 3,\n",
              " 'whites': 1,\n",
              " 'who': 4,\n",
              " 'whose': 1,\n",
              " 'will': 9,\n",
              " 'with': 4,\n",
              " 'withering': 1,\n",
              " 'words': 1,\n",
              " 'would': 2,\n",
              " 'wrongful': 1,\n",
              " 'wrote': 1,\n",
              " 'years': 5,\n",
              " 'yes,': 1,\n",
              " 'york': 1,\n",
              " 'you': 2}"
            ]
          },
          "metadata": {},
          "execution_count": 86
        }
      ]
    }
  ]
}