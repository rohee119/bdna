{
  "nbformat": 4,
  "nbformat_minor": 0,
  "metadata": {
    "colab": {
      "name": "김로희3강.ipynb",
      "provenance": [],
      "collapsed_sections": [],
      "authorship_tag": "ABX9TyMevFR6K5YWpY3GARX1r3zk",
      "include_colab_link": true
    },
    "kernelspec": {
      "name": "python3",
      "display_name": "Python 3"
    },
    "language_info": {
      "name": "python"
    }
  },
  "cells": [
    {
      "cell_type": "markdown",
      "metadata": {
        "id": "view-in-github",
        "colab_type": "text"
      },
      "source": [
        "<a href=\"https://colab.research.google.com/github/rohee119/bdna/blob/main/%EA%B9%80%EB%A1%9C%ED%9D%AC3%EA%B0%95.ipynb\" target=\"_parent\"><img src=\"https://colab.research.google.com/assets/colab-badge.svg\" alt=\"Open In Colab\"/></a>"
      ]
    },
    {
      "cell_type": "code",
      "execution_count": null,
      "metadata": {
        "id": "icaERm2TyPs9"
      },
      "outputs": [],
      "source": [
        "def greet_three_times():\n",
        "  print('hi')\n",
        "  print('hi')\n",
        "  print('hi')"
      ]
    },
    {
      "cell_type": "code",
      "source": [
        "greet_three_times()"
      ],
      "metadata": {
        "colab": {
          "base_uri": "https://localhost:8080/"
        },
        "id": "mhmQv8OYyhkj",
        "outputId": "caf75934-f44c-40ea-f095-afa45e2c8db3"
      },
      "execution_count": null,
      "outputs": [
        {
          "output_type": "stream",
          "name": "stdout",
          "text": [
            "hi\n",
            "hi\n",
            "hi\n"
          ]
        }
      ]
    },
    {
      "cell_type": "code",
      "source": [
        "def greet_10(num):\n",
        "  if (num>0):\n",
        "    print('hi')\n",
        "    num=num-1\n",
        "    greet_10(num)"
      ],
      "metadata": {
        "id": "rv8FT8w7ykP1"
      },
      "execution_count": null,
      "outputs": []
    },
    {
      "cell_type": "code",
      "source": [
        "greet_10(3)"
      ],
      "metadata": {
        "colab": {
          "base_uri": "https://localhost:8080/"
        },
        "id": "O7d2N42jyzWr",
        "outputId": "36788a48-5857-49a1-d943-8ffbb0984854"
      },
      "execution_count": null,
      "outputs": [
        {
          "output_type": "stream",
          "name": "stdout",
          "text": [
            "hi\n",
            "hi\n",
            "hi\n"
          ]
        }
      ]
    },
    {
      "cell_type": "code",
      "source": [
        "greet_10(2)"
      ],
      "metadata": {
        "colab": {
          "base_uri": "https://localhost:8080/"
        },
        "id": "Wakv9OQYy3Te",
        "outputId": "f356a9c9-8ce1-4756-81fc-aef591861d98"
      },
      "execution_count": null,
      "outputs": [
        {
          "output_type": "stream",
          "name": "stdout",
          "text": [
            "hi\n",
            "hi\n"
          ]
        }
      ]
    },
    {
      "cell_type": "code",
      "source": [
        "greet_10(1)"
      ],
      "metadata": {
        "colab": {
          "base_uri": "https://localhost:8080/"
        },
        "id": "OgLMFm8wzC-C",
        "outputId": "4417d267-6c0f-44c0-fe60-4fe414fef564"
      },
      "execution_count": null,
      "outputs": [
        {
          "output_type": "stream",
          "name": "stdout",
          "text": [
            "hi\n"
          ]
        }
      ]
    },
    {
      "cell_type": "code",
      "source": [
        "greet_10(0)"
      ],
      "metadata": {
        "id": "4e_Hdh-_zQBn"
      },
      "execution_count": null,
      "outputs": []
    },
    {
      "cell_type": "code",
      "source": [
        "sum=0\n",
        "for i in range(1,11):\n",
        "  sum=sum+i"
      ],
      "metadata": {
        "id": "slxfZ1ygzVe9"
      },
      "execution_count": null,
      "outputs": []
    },
    {
      "cell_type": "code",
      "source": [
        "sum"
      ],
      "metadata": {
        "colab": {
          "base_uri": "https://localhost:8080/"
        },
        "id": "DwKj2wbHzx23",
        "outputId": "dd43aef9-f390-4ae2-8391-1aa1c68d70e5"
      },
      "execution_count": null,
      "outputs": [
        {
          "output_type": "execute_result",
          "data": {
            "text/plain": [
              "230"
            ]
          },
          "metadata": {},
          "execution_count": 14
        }
      ]
    },
    {
      "cell_type": "code",
      "source": [
        "import random"
      ],
      "metadata": {
        "id": "RkcYaxTjz578"
      },
      "execution_count": null,
      "outputs": []
    },
    {
      "cell_type": "code",
      "source": [
        "NUMBER_OF_TRIALS=5000000\n",
        "numberofhits = 0"
      ],
      "metadata": {
        "id": "6sMvDyJN0Fob"
      },
      "execution_count": null,
      "outputs": []
    },
    {
      "cell_type": "code",
      "source": [
        "for i in range(NUMBER_OF_TRIALS):\n",
        "  x=random.random()*2-1\n",
        "  y=random.random()*2-1\n",
        "  if x*x+y*y<=1:\n",
        "    numberofhits+=1\n",
        "  "
      ],
      "metadata": {
        "id": "7BwArXX40cLC"
      },
      "execution_count": null,
      "outputs": []
    },
    {
      "cell_type": "code",
      "source": [
        "pi=4*numberofhits / NUMBER_OF_TRIALS"
      ],
      "metadata": {
        "id": "GBnPiEq203ut"
      },
      "execution_count": null,
      "outputs": []
    },
    {
      "cell_type": "code",
      "source": [
        "print(\"PI는\",pi,\"입니다\")"
      ],
      "metadata": {
        "colab": {
          "base_uri": "https://localhost:8080/"
        },
        "id": "shA9Obpm09N5",
        "outputId": "3c755f9a-7339-4b00-d582-e6c6bc2d25be"
      },
      "execution_count": null,
      "outputs": [
        {
          "output_type": "stream",
          "name": "stdout",
          "text": [
            "PI는 3.1411584 입니다\n"
          ]
        }
      ]
    },
    {
      "cell_type": "code",
      "source": [
        "import random\n",
        "NUMBER_OF_TRIALS=5000000\n",
        "numberofhits=0\n",
        "i=0"
      ],
      "metadata": {
        "id": "9TzdsPuy1DQE"
      },
      "execution_count": null,
      "outputs": []
    },
    {
      "cell_type": "code",
      "source": [
        "while (i<NUMBER_OF_TRIALS):\n",
        "  x=random.random()*2-1\n",
        "  y=random.random()*2-1\n",
        "  if x*x+y*y<=1:\n",
        "    numberofhits+=1\n",
        "    i=i+1"
      ],
      "metadata": {
        "id": "Wc-kE71d1iRt"
      },
      "execution_count": null,
      "outputs": []
    },
    {
      "cell_type": "code",
      "source": [
        "pi=4*numberofhits/NUMBER_OF_TRIALS"
      ],
      "metadata": {
        "id": "r8rf8jC41uAO"
      },
      "execution_count": null,
      "outputs": []
    },
    {
      "cell_type": "code",
      "source": [
        "print(\"PI\",pi,\"입니다\")"
      ],
      "metadata": {
        "colab": {
          "base_uri": "https://localhost:8080/"
        },
        "id": "-_zCyDCi19sm",
        "outputId": "09e075ed-da4e-4405-b4a3-a43d7cfe5686"
      },
      "execution_count": null,
      "outputs": [
        {
          "output_type": "stream",
          "name": "stdout",
          "text": [
            "PI 4.0 입니다\n"
          ]
        }
      ]
    },
    {
      "cell_type": "code",
      "source": [
        "count=0\n",
        "while count <100:\n",
        "  print(\"프로그래밍은 재미있어요!\")\n",
        "  count=count+1"
      ],
      "metadata": {
        "colab": {
          "base_uri": "https://localhost:8080/"
        },
        "id": "3ivTfUzT_TtJ",
        "outputId": "90e47151-cb0f-4a58-b396-d8e350dcd6b4"
      },
      "execution_count": null,
      "outputs": [
        {
          "output_type": "stream",
          "name": "stdout",
          "text": [
            "프로그래밍은 재미있어요!\n",
            "프로그래밍은 재미있어요!\n",
            "프로그래밍은 재미있어요!\n",
            "프로그래밍은 재미있어요!\n",
            "프로그래밍은 재미있어요!\n",
            "프로그래밍은 재미있어요!\n",
            "프로그래밍은 재미있어요!\n",
            "프로그래밍은 재미있어요!\n",
            "프로그래밍은 재미있어요!\n",
            "프로그래밍은 재미있어요!\n",
            "프로그래밍은 재미있어요!\n",
            "프로그래밍은 재미있어요!\n",
            "프로그래밍은 재미있어요!\n",
            "프로그래밍은 재미있어요!\n",
            "프로그래밍은 재미있어요!\n",
            "프로그래밍은 재미있어요!\n",
            "프로그래밍은 재미있어요!\n",
            "프로그래밍은 재미있어요!\n",
            "프로그래밍은 재미있어요!\n",
            "프로그래밍은 재미있어요!\n",
            "프로그래밍은 재미있어요!\n",
            "프로그래밍은 재미있어요!\n",
            "프로그래밍은 재미있어요!\n",
            "프로그래밍은 재미있어요!\n",
            "프로그래밍은 재미있어요!\n",
            "프로그래밍은 재미있어요!\n",
            "프로그래밍은 재미있어요!\n",
            "프로그래밍은 재미있어요!\n",
            "프로그래밍은 재미있어요!\n",
            "프로그래밍은 재미있어요!\n",
            "프로그래밍은 재미있어요!\n",
            "프로그래밍은 재미있어요!\n",
            "프로그래밍은 재미있어요!\n",
            "프로그래밍은 재미있어요!\n",
            "프로그래밍은 재미있어요!\n",
            "프로그래밍은 재미있어요!\n",
            "프로그래밍은 재미있어요!\n",
            "프로그래밍은 재미있어요!\n",
            "프로그래밍은 재미있어요!\n",
            "프로그래밍은 재미있어요!\n",
            "프로그래밍은 재미있어요!\n",
            "프로그래밍은 재미있어요!\n",
            "프로그래밍은 재미있어요!\n",
            "프로그래밍은 재미있어요!\n",
            "프로그래밍은 재미있어요!\n",
            "프로그래밍은 재미있어요!\n",
            "프로그래밍은 재미있어요!\n",
            "프로그래밍은 재미있어요!\n",
            "프로그래밍은 재미있어요!\n",
            "프로그래밍은 재미있어요!\n",
            "프로그래밍은 재미있어요!\n",
            "프로그래밍은 재미있어요!\n",
            "프로그래밍은 재미있어요!\n",
            "프로그래밍은 재미있어요!\n",
            "프로그래밍은 재미있어요!\n",
            "프로그래밍은 재미있어요!\n",
            "프로그래밍은 재미있어요!\n",
            "프로그래밍은 재미있어요!\n",
            "프로그래밍은 재미있어요!\n",
            "프로그래밍은 재미있어요!\n",
            "프로그래밍은 재미있어요!\n",
            "프로그래밍은 재미있어요!\n",
            "프로그래밍은 재미있어요!\n",
            "프로그래밍은 재미있어요!\n",
            "프로그래밍은 재미있어요!\n",
            "프로그래밍은 재미있어요!\n",
            "프로그래밍은 재미있어요!\n",
            "프로그래밍은 재미있어요!\n",
            "프로그래밍은 재미있어요!\n",
            "프로그래밍은 재미있어요!\n",
            "프로그래밍은 재미있어요!\n",
            "프로그래밍은 재미있어요!\n",
            "프로그래밍은 재미있어요!\n",
            "프로그래밍은 재미있어요!\n",
            "프로그래밍은 재미있어요!\n",
            "프로그래밍은 재미있어요!\n",
            "프로그래밍은 재미있어요!\n",
            "프로그래밍은 재미있어요!\n",
            "프로그래밍은 재미있어요!\n",
            "프로그래밍은 재미있어요!\n",
            "프로그래밍은 재미있어요!\n",
            "프로그래밍은 재미있어요!\n",
            "프로그래밍은 재미있어요!\n",
            "프로그래밍은 재미있어요!\n",
            "프로그래밍은 재미있어요!\n",
            "프로그래밍은 재미있어요!\n",
            "프로그래밍은 재미있어요!\n",
            "프로그래밍은 재미있어요!\n",
            "프로그래밍은 재미있어요!\n",
            "프로그래밍은 재미있어요!\n",
            "프로그래밍은 재미있어요!\n",
            "프로그래밍은 재미있어요!\n",
            "프로그래밍은 재미있어요!\n",
            "프로그래밍은 재미있어요!\n",
            "프로그래밍은 재미있어요!\n",
            "프로그래밍은 재미있어요!\n",
            "프로그래밍은 재미있어요!\n",
            "프로그래밍은 재미있어요!\n",
            "프로그래밍은 재미있어요!\n",
            "프로그래밍은 재미있어요!\n"
          ]
        }
      ]
    },
    {
      "cell_type": "code",
      "source": [
        "x=4"
      ],
      "metadata": {
        "id": "k-rrBmZSHqQ-"
      },
      "execution_count": null,
      "outputs": []
    },
    {
      "cell_type": "code",
      "source": [
        "y=3"
      ],
      "metadata": {
        "id": "xsS92C93HtZm"
      },
      "execution_count": null,
      "outputs": []
    },
    {
      "cell_type": "code",
      "source": [
        "x>y"
      ],
      "metadata": {
        "colab": {
          "base_uri": "https://localhost:8080/"
        },
        "id": "sA13oFwuHvVV",
        "outputId": "16fd5a2f-0c11-4357-db38-02b0af047f27"
      },
      "execution_count": null,
      "outputs": [
        {
          "output_type": "execute_result",
          "data": {
            "text/plain": [
              "True"
            ]
          },
          "metadata": {},
          "execution_count": 67
        }
      ]
    },
    {
      "cell_type": "code",
      "source": [
        "bool(x>y)"
      ],
      "metadata": {
        "colab": {
          "base_uri": "https://localhost:8080/"
        },
        "id": "Z4PoEPSO3IWg",
        "outputId": "110b9a7d-33ee-4c79-9fbd-ed94a9c61239"
      },
      "execution_count": null,
      "outputs": [
        {
          "output_type": "execute_result",
          "data": {
            "text/plain": [
              "True"
            ]
          },
          "metadata": {},
          "execution_count": 74
        }
      ]
    },
    {
      "cell_type": "code",
      "source": [
        "bool(x!=y)"
      ],
      "metadata": {
        "colab": {
          "base_uri": "https://localhost:8080/"
        },
        "id": "RdybEigq3PU_",
        "outputId": "7c287552-67bd-45c5-83d9-72832f9538c7"
      },
      "execution_count": null,
      "outputs": [
        {
          "output_type": "execute_result",
          "data": {
            "text/plain": [
              "True"
            ]
          },
          "metadata": {},
          "execution_count": 73
        }
      ]
    },
    {
      "cell_type": "code",
      "source": [
        "bool(x==y)"
      ],
      "metadata": {
        "colab": {
          "base_uri": "https://localhost:8080/"
        },
        "id": "MVu2Zw933c49",
        "outputId": "0568ca9d-8c32-4c4c-9bed-41820c34911a"
      },
      "execution_count": null,
      "outputs": [
        {
          "output_type": "execute_result",
          "data": {
            "text/plain": [
              "False"
            ]
          },
          "metadata": {},
          "execution_count": 75
        }
      ]
    },
    {
      "cell_type": "code",
      "source": [
        "bool(x<=y)"
      ],
      "metadata": {
        "colab": {
          "base_uri": "https://localhost:8080/"
        },
        "id": "XoZ6oxEt3fTg",
        "outputId": "0c3b904f-d4b3-44e7-a256-3e95a1a31d65"
      },
      "execution_count": null,
      "outputs": [
        {
          "output_type": "execute_result",
          "data": {
            "text/plain": [
              "False"
            ]
          },
          "metadata": {},
          "execution_count": 76
        }
      ]
    },
    {
      "cell_type": "code",
      "source": [
        "money=2000"
      ],
      "metadata": {
        "id": "mFA0bJHOI03X"
      },
      "execution_count": null,
      "outputs": []
    },
    {
      "cell_type": "code",
      "source": [
        "if money >=3000:\n",
        "  print(\"택시를 타고가라\")\n",
        "else:\n",
        "  print(\"걸어가라\")"
      ],
      "metadata": {
        "colab": {
          "base_uri": "https://localhost:8080/"
        },
        "id": "AIheKESlI3_V",
        "outputId": "aab9ed04-d660-4272-cd4a-30f6009e282d"
      },
      "execution_count": null,
      "outputs": [
        {
          "output_type": "stream",
          "name": "stdout",
          "text": [
            "걸어가라\n"
          ]
        }
      ]
    },
    {
      "cell_type": "code",
      "source": [
        "card=True"
      ],
      "metadata": {
        "id": "T6uybdnAJbiC"
      },
      "execution_count": null,
      "outputs": []
    },
    {
      "cell_type": "code",
      "source": [
        "if money>=3000 or card:\n",
        "  print(\"택시를 타고 가라\")\n",
        "\n",
        "else:\n",
        "  print(\"걸어가라\")"
      ],
      "metadata": {
        "colab": {
          "base_uri": "https://localhost:8080/"
        },
        "id": "qZ0eSCdaJegd",
        "outputId": "2067927a-2d31-4860-b047-52a279f1045e"
      },
      "execution_count": null,
      "outputs": [
        {
          "output_type": "stream",
          "name": "stdout",
          "text": [
            "택시를 타고 가라\n"
          ]
        }
      ]
    },
    {
      "cell_type": "code",
      "source": [
        "bool(True or True)"
      ],
      "metadata": {
        "colab": {
          "base_uri": "https://localhost:8080/"
        },
        "id": "zU8mCe_X3igw",
        "outputId": "942bc22a-8e57-4a33-efaf-dfa50c2c4c79"
      },
      "execution_count": null,
      "outputs": [
        {
          "output_type": "execute_result",
          "data": {
            "text/plain": [
              "True"
            ]
          },
          "metadata": {},
          "execution_count": 37
        }
      ]
    },
    {
      "cell_type": "code",
      "source": [
        "bool(True or False)"
      ],
      "metadata": {
        "colab": {
          "base_uri": "https://localhost:8080/"
        },
        "id": "0A7KuT2v3nqV",
        "outputId": "90a5e516-950a-4698-eca2-c8edf923d5ee"
      },
      "execution_count": null,
      "outputs": [
        {
          "output_type": "execute_result",
          "data": {
            "text/plain": [
              "True"
            ]
          },
          "metadata": {},
          "execution_count": 38
        }
      ]
    },
    {
      "cell_type": "code",
      "source": [
        "bool(False or False)"
      ],
      "metadata": {
        "colab": {
          "base_uri": "https://localhost:8080/"
        },
        "id": "3qwAonyd3rFc",
        "outputId": "26f41f75-47fd-4aaa-9aea-da88da9b24bd"
      },
      "execution_count": null,
      "outputs": [
        {
          "output_type": "execute_result",
          "data": {
            "text/plain": [
              "False"
            ]
          },
          "metadata": {},
          "execution_count": 40
        }
      ]
    },
    {
      "cell_type": "code",
      "source": [
        "bool(not True)"
      ],
      "metadata": {
        "colab": {
          "base_uri": "https://localhost:8080/"
        },
        "id": "mNbJYV8h3tXQ",
        "outputId": "ad5ebf95-6211-4533-dde6-490ad732e5a1"
      },
      "execution_count": null,
      "outputs": [
        {
          "output_type": "execute_result",
          "data": {
            "text/plain": [
              "False"
            ]
          },
          "metadata": {},
          "execution_count": 42
        }
      ]
    },
    {
      "cell_type": "code",
      "source": [
        "bool(not False)"
      ],
      "metadata": {
        "colab": {
          "base_uri": "https://localhost:8080/"
        },
        "id": "7OduiQWf34fJ",
        "outputId": "aefc1a2b-39ac-492c-9239-74dca0f3efc2"
      },
      "execution_count": null,
      "outputs": [
        {
          "output_type": "execute_result",
          "data": {
            "text/plain": [
              "True"
            ]
          },
          "metadata": {},
          "execution_count": 43
        }
      ]
    },
    {
      "cell_type": "code",
      "source": [
        "bool(not (True or False))"
      ],
      "metadata": {
        "colab": {
          "base_uri": "https://localhost:8080/"
        },
        "id": "1TlIrRom39Mc",
        "outputId": "a4a369af-fb63-4cbd-8063-204b3a8d78e9"
      },
      "execution_count": null,
      "outputs": [
        {
          "output_type": "execute_result",
          "data": {
            "text/plain": [
              "False"
            ]
          },
          "metadata": {},
          "execution_count": 44
        }
      ]
    },
    {
      "cell_type": "code",
      "source": [
        "bool((not True)or False)"
      ],
      "metadata": {
        "colab": {
          "base_uri": "https://localhost:8080/"
        },
        "id": "e_Mimybz4BF3",
        "outputId": "3a53802e-0ab3-47ac-978a-38b4b7a24b4f"
      },
      "execution_count": null,
      "outputs": [
        {
          "output_type": "execute_result",
          "data": {
            "text/plain": [
              "False"
            ]
          },
          "metadata": {},
          "execution_count": 45
        }
      ]
    },
    {
      "cell_type": "code",
      "source": [
        "bool((not False)or False)"
      ],
      "metadata": {
        "colab": {
          "base_uri": "https://localhost:8080/"
        },
        "id": "CNrxGFH44Dv5",
        "outputId": "c86eb573-bded-48a4-97b0-3886f3a0e708"
      },
      "execution_count": null,
      "outputs": [
        {
          "output_type": "execute_result",
          "data": {
            "text/plain": [
              "True"
            ]
          },
          "metadata": {},
          "execution_count": 46
        }
      ]
    },
    {
      "cell_type": "code",
      "source": [
        "1 in [1,2,3]"
      ],
      "metadata": {
        "colab": {
          "base_uri": "https://localhost:8080/"
        },
        "id": "Uy8WxGIZ4LyD",
        "outputId": "8c4e96b6-1851-47d2-e581-5ff8fc0433ec"
      },
      "execution_count": null,
      "outputs": [
        {
          "output_type": "execute_result",
          "data": {
            "text/plain": [
              "True"
            ]
          },
          "metadata": {},
          "execution_count": 48
        }
      ]
    },
    {
      "cell_type": "code",
      "source": [
        "1 not in [1,2,3]"
      ],
      "metadata": {
        "colab": {
          "base_uri": "https://localhost:8080/"
        },
        "id": "DHg9Fxme4R4J",
        "outputId": "b479b8ab-ce01-4f3d-b7e6-2df3f179e1d3"
      },
      "execution_count": null,
      "outputs": [
        {
          "output_type": "execute_result",
          "data": {
            "text/plain": [
              "False"
            ]
          },
          "metadata": {},
          "execution_count": 49
        }
      ]
    },
    {
      "cell_type": "code",
      "source": [
        "pocket=['paper','cellphone','money']\n"
      ],
      "metadata": {
        "id": "D5ddaG5u4VKD"
      },
      "execution_count": null,
      "outputs": []
    },
    {
      "cell_type": "code",
      "source": [
        "if 'money' in pocket:\n",
        "  print(\"택시를 타고 가라\")\n",
        "else:\n",
        "    print(\"걸어가라\")"
      ],
      "metadata": {
        "colab": {
          "base_uri": "https://localhost:8080/"
        },
        "id": "EtJw2jW_JxoL",
        "outputId": "dceaad14-5b3f-4228-c37a-f4646b0d2896"
      },
      "execution_count": null,
      "outputs": [
        {
          "output_type": "stream",
          "name": "stdout",
          "text": [
            "걸어가라\n"
          ]
        }
      ]
    },
    {
      "cell_type": "code",
      "source": [
        "pocket=['paper','money','cellphone']"
      ],
      "metadata": {
        "id": "Tj6XDmElJ43Y"
      },
      "execution_count": null,
      "outputs": []
    },
    {
      "cell_type": "code",
      "source": [
        "if 'money' in pocket:\n",
        "  pass\n",
        "else:\n",
        "  print(\"카드를 꺼내라\")"
      ],
      "metadata": {
        "id": "TgA6LMKU4mgG"
      },
      "execution_count": null,
      "outputs": []
    },
    {
      "cell_type": "code",
      "source": [
        "if 3>2:\n",
        "  pass\n",
        "else:\n",
        "  print('hello')"
      ],
      "metadata": {
        "id": "vOzNKNfwH3ho"
      },
      "execution_count": null,
      "outputs": []
    },
    {
      "cell_type": "code",
      "source": [
        "pocket=['paper','handphone']"
      ],
      "metadata": {
        "id": "hNZVSdaC5FKx"
      },
      "execution_count": null,
      "outputs": []
    },
    {
      "cell_type": "code",
      "source": [
        "card=True"
      ],
      "metadata": {
        "id": "akvwRnfSKJD5"
      },
      "execution_count": null,
      "outputs": []
    },
    {
      "cell_type": "code",
      "source": [
        "if 'money' in pocket:\n",
        "  print(\"택시를 타고가라\")\n",
        "elif card:\n",
        "  print(\"택시를 타고가라\")\n",
        "else:\n",
        "  print(\"걸어가라\")"
      ],
      "metadata": {
        "colab": {
          "base_uri": "https://localhost:8080/"
        },
        "id": "5tS8oDz9KMcu",
        "outputId": "cc1650af-fa8d-4371-b891-1e4fdfffa5ef"
      },
      "execution_count": null,
      "outputs": [
        {
          "output_type": "stream",
          "name": "stdout",
          "text": [
            "택시를 타고가라\n"
          ]
        }
      ]
    },
    {
      "cell_type": "code",
      "source": [
        "score=61"
      ],
      "metadata": {
        "id": "BHJDbdHpKfQ8"
      },
      "execution_count": null,
      "outputs": []
    },
    {
      "cell_type": "code",
      "source": [
        "if score >=60:\n",
        "  message=\"success\"\n",
        "else:\n",
        "  message = \"failure\"\n",
        "\n",
        "message=\"success\" if score>=60 else \"failure\""
      ],
      "metadata": {
        "id": "QtcFgouB5dms"
      },
      "execution_count": null,
      "outputs": []
    },
    {
      "cell_type": "code",
      "source": [
        ""
      ],
      "metadata": {
        "id": "F6eeW4EVMALj"
      },
      "execution_count": null,
      "outputs": []
    }
  ]
}