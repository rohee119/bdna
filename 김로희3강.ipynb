{
  "nbformat": 4,
  "nbformat_minor": 0,
  "metadata": {
    "colab": {
      "name": "김로희3강.ipynb",
      "provenance": [],
      "collapsed_sections": [],
      "authorship_tag": "ABX9TyO3cKjaN1rEUgYJJfuZs3yU",
      "include_colab_link": true
    },
    "kernelspec": {
      "name": "python3",
      "display_name": "Python 3"
    },
    "language_info": {
      "name": "python"
    }
  },
  "cells": [
    {
      "cell_type": "markdown",
      "metadata": {
        "id": "view-in-github",
        "colab_type": "text"
      },
      "source": [
        "<a href=\"https://colab.research.google.com/github/rohee119/bdna/blob/main/%EA%B9%80%EB%A1%9C%ED%9D%AC3%EA%B0%95.ipynb\" target=\"_parent\"><img src=\"https://colab.research.google.com/assets/colab-badge.svg\" alt=\"Open In Colab\"/></a>"
      ]
    },
    {
      "cell_type": "code",
      "execution_count": 1,
      "metadata": {
        "id": "icaERm2TyPs9"
      },
      "outputs": [],
      "source": [
        "def greet_three_times():\n",
        "  print('hi')\n",
        "  print('hi')\n",
        "  print('hi')"
      ]
    },
    {
      "cell_type": "code",
      "source": [
        "greet_three_times()"
      ],
      "metadata": {
        "colab": {
          "base_uri": "https://localhost:8080/"
        },
        "id": "mhmQv8OYyhkj",
        "outputId": "79e957f0-cdec-4189-fbaf-c8fb9605b87f"
      },
      "execution_count": 2,
      "outputs": [
        {
          "output_type": "stream",
          "name": "stdout",
          "text": [
            "hi\n",
            "hi\n",
            "hi\n"
          ]
        }
      ]
    },
    {
      "cell_type": "code",
      "source": [
        "def greet_10(num):\n",
        "  if (num>0):\n",
        "    print('hi')\n",
        "    num=num-1\n",
        "    greet_10(num)"
      ],
      "metadata": {
        "id": "rv8FT8w7ykP1"
      },
      "execution_count": 3,
      "outputs": []
    },
    {
      "cell_type": "code",
      "source": [
        "greet_10(3)"
      ],
      "metadata": {
        "colab": {
          "base_uri": "https://localhost:8080/"
        },
        "id": "O7d2N42jyzWr",
        "outputId": "9947b57e-19ec-429f-ce90-35a965492d5c"
      },
      "execution_count": 4,
      "outputs": [
        {
          "output_type": "stream",
          "name": "stdout",
          "text": [
            "hi\n",
            "hi\n",
            "hi\n"
          ]
        }
      ]
    },
    {
      "cell_type": "code",
      "source": [
        "greet_10(2)"
      ],
      "metadata": {
        "colab": {
          "base_uri": "https://localhost:8080/"
        },
        "id": "Wakv9OQYy3Te",
        "outputId": "4dd34565-a9b2-4633-aea1-12107a06eb62"
      },
      "execution_count": 5,
      "outputs": [
        {
          "output_type": "stream",
          "name": "stdout",
          "text": [
            "hi\n",
            "hi\n"
          ]
        }
      ]
    },
    {
      "cell_type": "code",
      "source": [
        "greet_10(1)"
      ],
      "metadata": {
        "colab": {
          "base_uri": "https://localhost:8080/"
        },
        "id": "OgLMFm8wzC-C",
        "outputId": "f7de0bc6-8503-4d52-95b3-6a90e5f297f1"
      },
      "execution_count": 6,
      "outputs": [
        {
          "output_type": "stream",
          "name": "stdout",
          "text": [
            "hi\n"
          ]
        }
      ]
    },
    {
      "cell_type": "code",
      "source": [
        "greet_10(0)"
      ],
      "metadata": {
        "id": "4e_Hdh-_zQBn"
      },
      "execution_count": 7,
      "outputs": []
    },
    {
      "cell_type": "code",
      "source": [
        "sum=0\n",
        "for i in range(1,11):\n",
        "  sum=sum+i"
      ],
      "metadata": {
        "id": "slxfZ1ygzVe9"
      },
      "execution_count": 8,
      "outputs": []
    },
    {
      "cell_type": "code",
      "source": [
        "sum"
      ],
      "metadata": {
        "colab": {
          "base_uri": "https://localhost:8080/"
        },
        "id": "DwKj2wbHzx23",
        "outputId": "b7e76d97-ccb4-4f17-b5b7-2cb9111932ee"
      },
      "execution_count": 9,
      "outputs": [
        {
          "output_type": "execute_result",
          "data": {
            "text/plain": [
              "55"
            ]
          },
          "metadata": {},
          "execution_count": 9
        }
      ]
    },
    {
      "cell_type": "code",
      "source": [
        "import random"
      ],
      "metadata": {
        "id": "RkcYaxTjz578"
      },
      "execution_count": 10,
      "outputs": []
    },
    {
      "cell_type": "code",
      "source": [
        "NUMBER_OF_TRIALS=5000000\n",
        "numberofhits = 0"
      ],
      "metadata": {
        "id": "6sMvDyJN0Fob"
      },
      "execution_count": 11,
      "outputs": []
    },
    {
      "cell_type": "code",
      "source": [
        "for i in range(NUMBER_OF_TRIALS):\n",
        "  x=random.random()*2-1\n",
        "  y=random.random()*2-1\n",
        "  if x*x+y*y<=1:\n",
        "    numberofhits+=1\n",
        "  "
      ],
      "metadata": {
        "id": "7BwArXX40cLC"
      },
      "execution_count": 12,
      "outputs": []
    },
    {
      "cell_type": "code",
      "source": [
        "pi=4*numberofhits / NUMBER_OF_TRIALS"
      ],
      "metadata": {
        "id": "GBnPiEq203ut"
      },
      "execution_count": 13,
      "outputs": []
    },
    {
      "cell_type": "code",
      "source": [
        "print(\"PI는\",pi,\"입니다\")"
      ],
      "metadata": {
        "colab": {
          "base_uri": "https://localhost:8080/"
        },
        "id": "shA9Obpm09N5",
        "outputId": "8524fe3c-8ea0-47f2-ad59-653661b8ce8e"
      },
      "execution_count": 14,
      "outputs": [
        {
          "output_type": "stream",
          "name": "stdout",
          "text": [
            "PI는 3.142412 입니다\n"
          ]
        }
      ]
    },
    {
      "cell_type": "code",
      "source": [
        "import random\n",
        "NUMBER_OF_TRIALS=5000000\n",
        "numberofhits=0\n",
        "i=0"
      ],
      "metadata": {
        "id": "9TzdsPuy1DQE"
      },
      "execution_count": 15,
      "outputs": []
    },
    {
      "cell_type": "code",
      "source": [
        "while (i<NUMBER_OF_TRIALS):\n",
        "  x=random.random()*2-1\n",
        "  y=random.random()*2-1\n",
        "  if x*x+y*y<=1:\n",
        "    numberofhits+=1\n",
        "    i=i+1"
      ],
      "metadata": {
        "id": "Wc-kE71d1iRt"
      },
      "execution_count": 16,
      "outputs": []
    },
    {
      "cell_type": "code",
      "source": [
        "pi=4*numberofhits/NUMBER_OF_TRIALS"
      ],
      "metadata": {
        "id": "r8rf8jC41uAO"
      },
      "execution_count": 17,
      "outputs": []
    },
    {
      "cell_type": "code",
      "source": [
        "print(\"PI\",pi,\"입니다\")"
      ],
      "metadata": {
        "colab": {
          "base_uri": "https://localhost:8080/"
        },
        "id": "-_zCyDCi19sm",
        "outputId": "d5104809-fe19-4040-bb0a-c7b95a694ce0"
      },
      "execution_count": 18,
      "outputs": [
        {
          "output_type": "stream",
          "name": "stdout",
          "text": [
            "PI 4.0 입니다\n"
          ]
        }
      ]
    },
    {
      "cell_type": "code",
      "source": [
        "count=0\n",
        "while count <100:\n",
        "  print(\"프로그래밍은 재미있어요!\")\n",
        "  count=count+1"
      ],
      "metadata": {
        "colab": {
          "base_uri": "https://localhost:8080/"
        },
        "id": "3ivTfUzT_TtJ",
        "outputId": "2d2f1e0a-90ae-4717-f7a4-ad340179e1fc"
      },
      "execution_count": 19,
      "outputs": [
        {
          "output_type": "stream",
          "name": "stdout",
          "text": [
            "프로그래밍은 재미있어요!\n",
            "프로그래밍은 재미있어요!\n",
            "프로그래밍은 재미있어요!\n",
            "프로그래밍은 재미있어요!\n",
            "프로그래밍은 재미있어요!\n",
            "프로그래밍은 재미있어요!\n",
            "프로그래밍은 재미있어요!\n",
            "프로그래밍은 재미있어요!\n",
            "프로그래밍은 재미있어요!\n",
            "프로그래밍은 재미있어요!\n",
            "프로그래밍은 재미있어요!\n",
            "프로그래밍은 재미있어요!\n",
            "프로그래밍은 재미있어요!\n",
            "프로그래밍은 재미있어요!\n",
            "프로그래밍은 재미있어요!\n",
            "프로그래밍은 재미있어요!\n",
            "프로그래밍은 재미있어요!\n",
            "프로그래밍은 재미있어요!\n",
            "프로그래밍은 재미있어요!\n",
            "프로그래밍은 재미있어요!\n",
            "프로그래밍은 재미있어요!\n",
            "프로그래밍은 재미있어요!\n",
            "프로그래밍은 재미있어요!\n",
            "프로그래밍은 재미있어요!\n",
            "프로그래밍은 재미있어요!\n",
            "프로그래밍은 재미있어요!\n",
            "프로그래밍은 재미있어요!\n",
            "프로그래밍은 재미있어요!\n",
            "프로그래밍은 재미있어요!\n",
            "프로그래밍은 재미있어요!\n",
            "프로그래밍은 재미있어요!\n",
            "프로그래밍은 재미있어요!\n",
            "프로그래밍은 재미있어요!\n",
            "프로그래밍은 재미있어요!\n",
            "프로그래밍은 재미있어요!\n",
            "프로그래밍은 재미있어요!\n",
            "프로그래밍은 재미있어요!\n",
            "프로그래밍은 재미있어요!\n",
            "프로그래밍은 재미있어요!\n",
            "프로그래밍은 재미있어요!\n",
            "프로그래밍은 재미있어요!\n",
            "프로그래밍은 재미있어요!\n",
            "프로그래밍은 재미있어요!\n",
            "프로그래밍은 재미있어요!\n",
            "프로그래밍은 재미있어요!\n",
            "프로그래밍은 재미있어요!\n",
            "프로그래밍은 재미있어요!\n",
            "프로그래밍은 재미있어요!\n",
            "프로그래밍은 재미있어요!\n",
            "프로그래밍은 재미있어요!\n",
            "프로그래밍은 재미있어요!\n",
            "프로그래밍은 재미있어요!\n",
            "프로그래밍은 재미있어요!\n",
            "프로그래밍은 재미있어요!\n",
            "프로그래밍은 재미있어요!\n",
            "프로그래밍은 재미있어요!\n",
            "프로그래밍은 재미있어요!\n",
            "프로그래밍은 재미있어요!\n",
            "프로그래밍은 재미있어요!\n",
            "프로그래밍은 재미있어요!\n",
            "프로그래밍은 재미있어요!\n",
            "프로그래밍은 재미있어요!\n",
            "프로그래밍은 재미있어요!\n",
            "프로그래밍은 재미있어요!\n",
            "프로그래밍은 재미있어요!\n",
            "프로그래밍은 재미있어요!\n",
            "프로그래밍은 재미있어요!\n",
            "프로그래밍은 재미있어요!\n",
            "프로그래밍은 재미있어요!\n",
            "프로그래밍은 재미있어요!\n",
            "프로그래밍은 재미있어요!\n",
            "프로그래밍은 재미있어요!\n",
            "프로그래밍은 재미있어요!\n",
            "프로그래밍은 재미있어요!\n",
            "프로그래밍은 재미있어요!\n",
            "프로그래밍은 재미있어요!\n",
            "프로그래밍은 재미있어요!\n",
            "프로그래밍은 재미있어요!\n",
            "프로그래밍은 재미있어요!\n",
            "프로그래밍은 재미있어요!\n",
            "프로그래밍은 재미있어요!\n",
            "프로그래밍은 재미있어요!\n",
            "프로그래밍은 재미있어요!\n",
            "프로그래밍은 재미있어요!\n",
            "프로그래밍은 재미있어요!\n",
            "프로그래밍은 재미있어요!\n",
            "프로그래밍은 재미있어요!\n",
            "프로그래밍은 재미있어요!\n",
            "프로그래밍은 재미있어요!\n",
            "프로그래밍은 재미있어요!\n",
            "프로그래밍은 재미있어요!\n",
            "프로그래밍은 재미있어요!\n",
            "프로그래밍은 재미있어요!\n",
            "프로그래밍은 재미있어요!\n",
            "프로그래밍은 재미있어요!\n",
            "프로그래밍은 재미있어요!\n",
            "프로그래밍은 재미있어요!\n",
            "프로그래밍은 재미있어요!\n",
            "프로그래밍은 재미있어요!\n",
            "프로그래밍은 재미있어요!\n"
          ]
        }
      ]
    },
    {
      "cell_type": "code",
      "source": [
        "x=4"
      ],
      "metadata": {
        "id": "k-rrBmZSHqQ-"
      },
      "execution_count": 20,
      "outputs": []
    },
    {
      "cell_type": "code",
      "source": [
        "y=3"
      ],
      "metadata": {
        "id": "xsS92C93HtZm"
      },
      "execution_count": 21,
      "outputs": []
    },
    {
      "cell_type": "code",
      "source": [
        "x>y"
      ],
      "metadata": {
        "colab": {
          "base_uri": "https://localhost:8080/"
        },
        "id": "sA13oFwuHvVV",
        "outputId": "bf777908-10a0-42f6-f8e8-42f2d5a0d3e1"
      },
      "execution_count": 22,
      "outputs": [
        {
          "output_type": "execute_result",
          "data": {
            "text/plain": [
              "True"
            ]
          },
          "metadata": {},
          "execution_count": 22
        }
      ]
    },
    {
      "cell_type": "code",
      "source": [
        "bool(x>y)"
      ],
      "metadata": {
        "colab": {
          "base_uri": "https://localhost:8080/"
        },
        "id": "Z4PoEPSO3IWg",
        "outputId": "5a82d8e6-2f1a-477d-97f9-f0e9f3d3a8c3"
      },
      "execution_count": 23,
      "outputs": [
        {
          "output_type": "execute_result",
          "data": {
            "text/plain": [
              "True"
            ]
          },
          "metadata": {},
          "execution_count": 23
        }
      ]
    },
    {
      "cell_type": "code",
      "source": [
        "bool(x!=y)"
      ],
      "metadata": {
        "colab": {
          "base_uri": "https://localhost:8080/"
        },
        "id": "RdybEigq3PU_",
        "outputId": "d0dd4c23-9ded-4bb8-bc5d-02d85c30f03f"
      },
      "execution_count": 24,
      "outputs": [
        {
          "output_type": "execute_result",
          "data": {
            "text/plain": [
              "True"
            ]
          },
          "metadata": {},
          "execution_count": 24
        }
      ]
    },
    {
      "cell_type": "code",
      "source": [
        "bool(x==y)"
      ],
      "metadata": {
        "colab": {
          "base_uri": "https://localhost:8080/"
        },
        "id": "MVu2Zw933c49",
        "outputId": "88aa6977-ee0c-45eb-ad89-c45ff7f97157"
      },
      "execution_count": 25,
      "outputs": [
        {
          "output_type": "execute_result",
          "data": {
            "text/plain": [
              "False"
            ]
          },
          "metadata": {},
          "execution_count": 25
        }
      ]
    },
    {
      "cell_type": "code",
      "source": [
        "bool(x<=y)"
      ],
      "metadata": {
        "colab": {
          "base_uri": "https://localhost:8080/"
        },
        "id": "XoZ6oxEt3fTg",
        "outputId": "14b00ece-89b4-426c-9b9d-3c7207cec47b"
      },
      "execution_count": 26,
      "outputs": [
        {
          "output_type": "execute_result",
          "data": {
            "text/plain": [
              "False"
            ]
          },
          "metadata": {},
          "execution_count": 26
        }
      ]
    },
    {
      "cell_type": "code",
      "source": [
        "money=2000"
      ],
      "metadata": {
        "id": "mFA0bJHOI03X"
      },
      "execution_count": 27,
      "outputs": []
    },
    {
      "cell_type": "code",
      "source": [
        "if money >=3000:\n",
        "  print(\"택시를 타고가라\")\n",
        "else:\n",
        "  print(\"걸어가라\")"
      ],
      "metadata": {
        "colab": {
          "base_uri": "https://localhost:8080/"
        },
        "id": "AIheKESlI3_V",
        "outputId": "bca13d1b-e306-400e-d94c-c9e98eed9fa3"
      },
      "execution_count": 28,
      "outputs": [
        {
          "output_type": "stream",
          "name": "stdout",
          "text": [
            "걸어가라\n"
          ]
        }
      ]
    },
    {
      "cell_type": "code",
      "source": [
        "card=True"
      ],
      "metadata": {
        "id": "T6uybdnAJbiC"
      },
      "execution_count": 29,
      "outputs": []
    },
    {
      "cell_type": "code",
      "source": [
        "if money>=3000 or card:\n",
        "  print(\"택시를 타고 가라\")\n",
        "\n",
        "else:\n",
        "  print(\"걸어가라\")"
      ],
      "metadata": {
        "colab": {
          "base_uri": "https://localhost:8080/"
        },
        "id": "qZ0eSCdaJegd",
        "outputId": "4f811db0-eb83-45b0-c40d-0244564902df"
      },
      "execution_count": 30,
      "outputs": [
        {
          "output_type": "stream",
          "name": "stdout",
          "text": [
            "택시를 타고 가라\n"
          ]
        }
      ]
    },
    {
      "cell_type": "code",
      "source": [
        "bool(True or True)"
      ],
      "metadata": {
        "colab": {
          "base_uri": "https://localhost:8080/"
        },
        "id": "zU8mCe_X3igw",
        "outputId": "190ee704-dea5-4fbc-8c7e-b918a39b25ba"
      },
      "execution_count": 31,
      "outputs": [
        {
          "output_type": "execute_result",
          "data": {
            "text/plain": [
              "True"
            ]
          },
          "metadata": {},
          "execution_count": 31
        }
      ]
    },
    {
      "cell_type": "code",
      "source": [
        "bool(True or False)"
      ],
      "metadata": {
        "colab": {
          "base_uri": "https://localhost:8080/"
        },
        "id": "0A7KuT2v3nqV",
        "outputId": "c628aaef-2332-48bd-b8ec-626f5b7396c3"
      },
      "execution_count": 32,
      "outputs": [
        {
          "output_type": "execute_result",
          "data": {
            "text/plain": [
              "True"
            ]
          },
          "metadata": {},
          "execution_count": 32
        }
      ]
    },
    {
      "cell_type": "code",
      "source": [
        "bool(False or False)"
      ],
      "metadata": {
        "colab": {
          "base_uri": "https://localhost:8080/"
        },
        "id": "3qwAonyd3rFc",
        "outputId": "4a837363-c71d-4c6b-a4aa-0b5eb521b7e6"
      },
      "execution_count": 33,
      "outputs": [
        {
          "output_type": "execute_result",
          "data": {
            "text/plain": [
              "False"
            ]
          },
          "metadata": {},
          "execution_count": 33
        }
      ]
    },
    {
      "cell_type": "code",
      "source": [
        "bool(not True)"
      ],
      "metadata": {
        "colab": {
          "base_uri": "https://localhost:8080/"
        },
        "id": "mNbJYV8h3tXQ",
        "outputId": "ea012822-6ad8-4bd3-ef3d-7d19da36c6a8"
      },
      "execution_count": 34,
      "outputs": [
        {
          "output_type": "execute_result",
          "data": {
            "text/plain": [
              "False"
            ]
          },
          "metadata": {},
          "execution_count": 34
        }
      ]
    },
    {
      "cell_type": "code",
      "source": [
        "bool(not False)"
      ],
      "metadata": {
        "colab": {
          "base_uri": "https://localhost:8080/"
        },
        "id": "7OduiQWf34fJ",
        "outputId": "7a16375d-ee87-4053-f6d6-2f8d9027e829"
      },
      "execution_count": 35,
      "outputs": [
        {
          "output_type": "execute_result",
          "data": {
            "text/plain": [
              "True"
            ]
          },
          "metadata": {},
          "execution_count": 35
        }
      ]
    },
    {
      "cell_type": "code",
      "source": [
        "bool(not (True or False))"
      ],
      "metadata": {
        "colab": {
          "base_uri": "https://localhost:8080/"
        },
        "id": "1TlIrRom39Mc",
        "outputId": "14b830e7-7e36-4641-f5ab-82fe3239a456"
      },
      "execution_count": 36,
      "outputs": [
        {
          "output_type": "execute_result",
          "data": {
            "text/plain": [
              "False"
            ]
          },
          "metadata": {},
          "execution_count": 36
        }
      ]
    },
    {
      "cell_type": "code",
      "source": [
        "bool((not True)or False)"
      ],
      "metadata": {
        "colab": {
          "base_uri": "https://localhost:8080/"
        },
        "id": "e_Mimybz4BF3",
        "outputId": "af026d5a-e95a-4396-f40c-f30152155c03"
      },
      "execution_count": 37,
      "outputs": [
        {
          "output_type": "execute_result",
          "data": {
            "text/plain": [
              "False"
            ]
          },
          "metadata": {},
          "execution_count": 37
        }
      ]
    },
    {
      "cell_type": "code",
      "source": [
        "bool((not False)or False)"
      ],
      "metadata": {
        "colab": {
          "base_uri": "https://localhost:8080/"
        },
        "id": "CNrxGFH44Dv5",
        "outputId": "45f882bd-1024-4c9d-baf5-69b655d88111"
      },
      "execution_count": 38,
      "outputs": [
        {
          "output_type": "execute_result",
          "data": {
            "text/plain": [
              "True"
            ]
          },
          "metadata": {},
          "execution_count": 38
        }
      ]
    },
    {
      "cell_type": "code",
      "source": [
        "1 in [1,2,3]"
      ],
      "metadata": {
        "colab": {
          "base_uri": "https://localhost:8080/"
        },
        "id": "Uy8WxGIZ4LyD",
        "outputId": "ced25f29-a6f1-4026-a98b-2067e8ad4a44"
      },
      "execution_count": 39,
      "outputs": [
        {
          "output_type": "execute_result",
          "data": {
            "text/plain": [
              "True"
            ]
          },
          "metadata": {},
          "execution_count": 39
        }
      ]
    },
    {
      "cell_type": "code",
      "source": [
        "1 not in [1,2,3]"
      ],
      "metadata": {
        "colab": {
          "base_uri": "https://localhost:8080/"
        },
        "id": "DHg9Fxme4R4J",
        "outputId": "01b73d59-2a72-4594-f41c-6811c1500be4"
      },
      "execution_count": 40,
      "outputs": [
        {
          "output_type": "execute_result",
          "data": {
            "text/plain": [
              "False"
            ]
          },
          "metadata": {},
          "execution_count": 40
        }
      ]
    },
    {
      "cell_type": "code",
      "source": [
        "pocket=['paper','cellphone','money']\n"
      ],
      "metadata": {
        "id": "D5ddaG5u4VKD"
      },
      "execution_count": 41,
      "outputs": []
    },
    {
      "cell_type": "code",
      "source": [
        "if 'money' in pocket:\n",
        "  print(\"택시를 타고 가라\")\n",
        "else:\n",
        "    print(\"걸어가라\")"
      ],
      "metadata": {
        "colab": {
          "base_uri": "https://localhost:8080/"
        },
        "id": "EtJw2jW_JxoL",
        "outputId": "e79d5066-0aae-4081-cbd1-f7a714d5c8d7"
      },
      "execution_count": 42,
      "outputs": [
        {
          "output_type": "stream",
          "name": "stdout",
          "text": [
            "택시를 타고 가라\n"
          ]
        }
      ]
    },
    {
      "cell_type": "code",
      "source": [
        "pocket=['paper','money','cellphone']"
      ],
      "metadata": {
        "id": "Tj6XDmElJ43Y"
      },
      "execution_count": 43,
      "outputs": []
    },
    {
      "cell_type": "code",
      "source": [
        "if 'money' in pocket:\n",
        "  pass\n",
        "else:\n",
        "  print(\"카드를 꺼내라\")"
      ],
      "metadata": {
        "id": "TgA6LMKU4mgG"
      },
      "execution_count": 44,
      "outputs": []
    },
    {
      "cell_type": "code",
      "source": [
        "if 3>2:\n",
        "  pass\n",
        "else:\n",
        "  print('hello')"
      ],
      "metadata": {
        "id": "vOzNKNfwH3ho"
      },
      "execution_count": 45,
      "outputs": []
    },
    {
      "cell_type": "code",
      "source": [
        "pocket=['paper','handphone']"
      ],
      "metadata": {
        "id": "hNZVSdaC5FKx"
      },
      "execution_count": 46,
      "outputs": []
    },
    {
      "cell_type": "code",
      "source": [
        "card=True"
      ],
      "metadata": {
        "id": "akvwRnfSKJD5"
      },
      "execution_count": 47,
      "outputs": []
    },
    {
      "cell_type": "code",
      "source": [
        "if 'money' in pocket:\n",
        "  print(\"택시를 타고가라\")\n",
        "elif card:\n",
        "  print(\"택시를 타고가라\")\n",
        "else:\n",
        "  print(\"걸어가라\")"
      ],
      "metadata": {
        "colab": {
          "base_uri": "https://localhost:8080/"
        },
        "id": "5tS8oDz9KMcu",
        "outputId": "b0649255-558c-4ca7-b93a-051921d27773"
      },
      "execution_count": 48,
      "outputs": [
        {
          "output_type": "stream",
          "name": "stdout",
          "text": [
            "택시를 타고가라\n"
          ]
        }
      ]
    },
    {
      "cell_type": "code",
      "source": [
        "score=61"
      ],
      "metadata": {
        "id": "BHJDbdHpKfQ8"
      },
      "execution_count": 49,
      "outputs": []
    },
    {
      "cell_type": "code",
      "source": [
        "if score >=60:\n",
        "  message=\"success\"\n",
        "else:\n",
        "  message = \"failure\"\n",
        "\n",
        "message=\"success\" if score>=60 else \"failure\""
      ],
      "metadata": {
        "id": "QtcFgouB5dms"
      },
      "execution_count": 50,
      "outputs": []
    }
  ]
}