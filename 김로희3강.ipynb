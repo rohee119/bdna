{
  "nbformat": 4,
  "nbformat_minor": 0,
  "metadata": {
    "colab": {
      "name": "김로희3강.ipynb",
      "provenance": [],
      "collapsed_sections": [],
      "authorship_tag": "ABX9TyP+0qHy/8VSl+zYyGGvU6bz",
      "include_colab_link": true
    },
    "kernelspec": {
      "name": "python3",
      "display_name": "Python 3"
    },
    "language_info": {
      "name": "python"
    }
  },
  "cells": [
    {
      "cell_type": "markdown",
      "metadata": {
        "id": "view-in-github",
        "colab_type": "text"
      },
      "source": [
        "<a href=\"https://colab.research.google.com/github/rohee119/bdna/blob/main/%EA%B9%80%EB%A1%9C%ED%9D%AC3%EA%B0%95.ipynb\" target=\"_parent\"><img src=\"https://colab.research.google.com/assets/colab-badge.svg\" alt=\"Open In Colab\"/></a>"
      ]
    },
    {
      "cell_type": "code",
      "execution_count": 33,
      "metadata": {
        "id": "icaERm2TyPs9"
      },
      "outputs": [],
      "source": [
        "def greet_three_times():\n",
        "  print('hi')\n",
        "  print('hi')\n",
        "  print('hi')"
      ]
    },
    {
      "cell_type": "code",
      "source": [
        "greet_three_times()"
      ],
      "metadata": {
        "colab": {
          "base_uri": "https://localhost:8080/"
        },
        "id": "mhmQv8OYyhkj",
        "outputId": "2200d03e-ba3d-4da4-9924-b4c8720106c6"
      },
      "execution_count": 34,
      "outputs": [
        {
          "output_type": "stream",
          "name": "stdout",
          "text": [
            "hi\n",
            "hi\n",
            "hi\n"
          ]
        }
      ]
    },
    {
      "cell_type": "code",
      "source": [
        "def greet_10(num):\n",
        "  if (num>0):\n",
        "    print('hi')\n",
        "    num=num-1\n",
        "    greet_10(num)"
      ],
      "metadata": {
        "id": "rv8FT8w7ykP1"
      },
      "execution_count": 35,
      "outputs": []
    },
    {
      "cell_type": "code",
      "source": [
        "greet_10(3)"
      ],
      "metadata": {
        "colab": {
          "base_uri": "https://localhost:8080/"
        },
        "id": "O7d2N42jyzWr",
        "outputId": "83fc5037-e4f5-414b-f5d5-1d9c3676f2a8"
      },
      "execution_count": 36,
      "outputs": [
        {
          "output_type": "stream",
          "name": "stdout",
          "text": [
            "hi\n",
            "hi\n",
            "hi\n"
          ]
        }
      ]
    },
    {
      "cell_type": "code",
      "source": [
        "greet_10(2)"
      ],
      "metadata": {
        "colab": {
          "base_uri": "https://localhost:8080/"
        },
        "id": "Wakv9OQYy3Te",
        "outputId": "ac6069ac-4553-4a6b-b230-93380e30a57a"
      },
      "execution_count": 37,
      "outputs": [
        {
          "output_type": "stream",
          "name": "stdout",
          "text": [
            "hi\n",
            "hi\n"
          ]
        }
      ]
    },
    {
      "cell_type": "code",
      "source": [
        "greet_10(1)"
      ],
      "metadata": {
        "colab": {
          "base_uri": "https://localhost:8080/"
        },
        "id": "OgLMFm8wzC-C",
        "outputId": "46e175db-16a3-4948-d7fa-92e18783c1cd"
      },
      "execution_count": 38,
      "outputs": [
        {
          "output_type": "stream",
          "name": "stdout",
          "text": [
            "hi\n"
          ]
        }
      ]
    },
    {
      "cell_type": "code",
      "source": [
        "greet_10(0)"
      ],
      "metadata": {
        "id": "4e_Hdh-_zQBn"
      },
      "execution_count": 39,
      "outputs": []
    },
    {
      "cell_type": "code",
      "source": [
        "sum=0\n",
        "for i in range(1,11):\n",
        "  sum=sum+i"
      ],
      "metadata": {
        "id": "slxfZ1ygzVe9"
      },
      "execution_count": 40,
      "outputs": []
    },
    {
      "cell_type": "code",
      "source": [
        "sum"
      ],
      "metadata": {
        "colab": {
          "base_uri": "https://localhost:8080/"
        },
        "id": "DwKj2wbHzx23",
        "outputId": "995d1b7f-899a-473f-8fcb-197fa4cd7256"
      },
      "execution_count": 41,
      "outputs": [
        {
          "output_type": "execute_result",
          "data": {
            "text/plain": [
              "55"
            ]
          },
          "metadata": {},
          "execution_count": 41
        }
      ]
    },
    {
      "cell_type": "code",
      "source": [
        "import random"
      ],
      "metadata": {
        "id": "RkcYaxTjz578"
      },
      "execution_count": 63,
      "outputs": []
    },
    {
      "cell_type": "code",
      "source": [
        "NUMBER_OF_TRIALS=5000000\n",
        "numberofhits = 0"
      ],
      "metadata": {
        "id": "6sMvDyJN0Fob"
      },
      "execution_count": 64,
      "outputs": []
    },
    {
      "cell_type": "code",
      "source": [
        "for i in range(NUMBER_OF_TRIALS):\n",
        "  x=random.random()*2-1\n",
        "  y=random.random()*2-1\n",
        "  if x*x+y*y<=1:\n",
        "    numberofhits+=1\n",
        "  "
      ],
      "metadata": {
        "id": "7BwArXX40cLC"
      },
      "execution_count": 65,
      "outputs": []
    },
    {
      "cell_type": "code",
      "source": [
        "pi=4*numberofhits / NUMBER_OF_TRIALS"
      ],
      "metadata": {
        "id": "GBnPiEq203ut"
      },
      "execution_count": 66,
      "outputs": []
    },
    {
      "cell_type": "code",
      "source": [
        "print(\"PI는\",pi,\"입니다\")"
      ],
      "metadata": {
        "colab": {
          "base_uri": "https://localhost:8080/"
        },
        "id": "shA9Obpm09N5",
        "outputId": "cb9f25fe-9e8d-4e2d-c528-10ff055b3be3"
      },
      "execution_count": 67,
      "outputs": [
        {
          "output_type": "stream",
          "name": "stdout",
          "text": [
            "PI는 3.140464 입니다\n"
          ]
        }
      ]
    },
    {
      "cell_type": "code",
      "source": [
        "import random\n",
        "NUMBER_OF_TRIALS=5000000\n",
        "numberofhits=0\n",
        "i=0"
      ],
      "metadata": {
        "id": "9TzdsPuy1DQE"
      },
      "execution_count": 68,
      "outputs": []
    },
    {
      "cell_type": "code",
      "source": [
        "while (i<NUMBER_OF_TRIALS):\n",
        "  x=random.random()*2-1\n",
        "  y=random.random()*2-1\n",
        "  if x*x+y*y<=1:\n",
        "    numberofhits+=1\n",
        "  i=i+1\n"
      ],
      "metadata": {
        "id": "Wc-kE71d1iRt"
      },
      "execution_count": 69,
      "outputs": []
    },
    {
      "cell_type": "code",
      "source": [
        "pi=4*numberofhits/NUMBER_OF_TRIALS"
      ],
      "metadata": {
        "id": "r8rf8jC41uAO"
      },
      "execution_count": 70,
      "outputs": []
    },
    {
      "cell_type": "code",
      "source": [
        "print(\"PI\",pi,\"입니다\")"
      ],
      "metadata": {
        "colab": {
          "base_uri": "https://localhost:8080/"
        },
        "id": "-_zCyDCi19sm",
        "outputId": "15383dd5-8e64-4496-c2ea-202d43ae092f"
      },
      "execution_count": 71,
      "outputs": [
        {
          "output_type": "stream",
          "name": "stdout",
          "text": [
            "PI 3.141528 입니다\n"
          ]
        }
      ]
    },
    {
      "cell_type": "code",
      "source": [
        "count=0\n",
        "while count <100:\n",
        "  print(\"프로그래밍은 재미있어요!\")\n",
        "  count=count+1"
      ],
      "metadata": {
        "colab": {
          "base_uri": "https://localhost:8080/"
        },
        "id": "3ivTfUzT_TtJ",
        "outputId": "a1203308-9687-4140-92e1-221ea639b318"
      },
      "execution_count": 72,
      "outputs": [
        {
          "output_type": "stream",
          "name": "stdout",
          "text": [
            "프로그래밍은 재미있어요!\n",
            "프로그래밍은 재미있어요!\n",
            "프로그래밍은 재미있어요!\n",
            "프로그래밍은 재미있어요!\n",
            "프로그래밍은 재미있어요!\n",
            "프로그래밍은 재미있어요!\n",
            "프로그래밍은 재미있어요!\n",
            "프로그래밍은 재미있어요!\n",
            "프로그래밍은 재미있어요!\n",
            "프로그래밍은 재미있어요!\n",
            "프로그래밍은 재미있어요!\n",
            "프로그래밍은 재미있어요!\n",
            "프로그래밍은 재미있어요!\n",
            "프로그래밍은 재미있어요!\n",
            "프로그래밍은 재미있어요!\n",
            "프로그래밍은 재미있어요!\n",
            "프로그래밍은 재미있어요!\n",
            "프로그래밍은 재미있어요!\n",
            "프로그래밍은 재미있어요!\n",
            "프로그래밍은 재미있어요!\n",
            "프로그래밍은 재미있어요!\n",
            "프로그래밍은 재미있어요!\n",
            "프로그래밍은 재미있어요!\n",
            "프로그래밍은 재미있어요!\n",
            "프로그래밍은 재미있어요!\n",
            "프로그래밍은 재미있어요!\n",
            "프로그래밍은 재미있어요!\n",
            "프로그래밍은 재미있어요!\n",
            "프로그래밍은 재미있어요!\n",
            "프로그래밍은 재미있어요!\n",
            "프로그래밍은 재미있어요!\n",
            "프로그래밍은 재미있어요!\n",
            "프로그래밍은 재미있어요!\n",
            "프로그래밍은 재미있어요!\n",
            "프로그래밍은 재미있어요!\n",
            "프로그래밍은 재미있어요!\n",
            "프로그래밍은 재미있어요!\n",
            "프로그래밍은 재미있어요!\n",
            "프로그래밍은 재미있어요!\n",
            "프로그래밍은 재미있어요!\n",
            "프로그래밍은 재미있어요!\n",
            "프로그래밍은 재미있어요!\n",
            "프로그래밍은 재미있어요!\n",
            "프로그래밍은 재미있어요!\n",
            "프로그래밍은 재미있어요!\n",
            "프로그래밍은 재미있어요!\n",
            "프로그래밍은 재미있어요!\n",
            "프로그래밍은 재미있어요!\n",
            "프로그래밍은 재미있어요!\n",
            "프로그래밍은 재미있어요!\n",
            "프로그래밍은 재미있어요!\n",
            "프로그래밍은 재미있어요!\n",
            "프로그래밍은 재미있어요!\n",
            "프로그래밍은 재미있어요!\n",
            "프로그래밍은 재미있어요!\n",
            "프로그래밍은 재미있어요!\n",
            "프로그래밍은 재미있어요!\n",
            "프로그래밍은 재미있어요!\n",
            "프로그래밍은 재미있어요!\n",
            "프로그래밍은 재미있어요!\n",
            "프로그래밍은 재미있어요!\n",
            "프로그래밍은 재미있어요!\n",
            "프로그래밍은 재미있어요!\n",
            "프로그래밍은 재미있어요!\n",
            "프로그래밍은 재미있어요!\n",
            "프로그래밍은 재미있어요!\n",
            "프로그래밍은 재미있어요!\n",
            "프로그래밍은 재미있어요!\n",
            "프로그래밍은 재미있어요!\n",
            "프로그래밍은 재미있어요!\n",
            "프로그래밍은 재미있어요!\n",
            "프로그래밍은 재미있어요!\n",
            "프로그래밍은 재미있어요!\n",
            "프로그래밍은 재미있어요!\n",
            "프로그래밍은 재미있어요!\n",
            "프로그래밍은 재미있어요!\n",
            "프로그래밍은 재미있어요!\n",
            "프로그래밍은 재미있어요!\n",
            "프로그래밍은 재미있어요!\n",
            "프로그래밍은 재미있어요!\n",
            "프로그래밍은 재미있어요!\n",
            "프로그래밍은 재미있어요!\n",
            "프로그래밍은 재미있어요!\n",
            "프로그래밍은 재미있어요!\n",
            "프로그래밍은 재미있어요!\n",
            "프로그래밍은 재미있어요!\n",
            "프로그래밍은 재미있어요!\n",
            "프로그래밍은 재미있어요!\n",
            "프로그래밍은 재미있어요!\n",
            "프로그래밍은 재미있어요!\n",
            "프로그래밍은 재미있어요!\n",
            "프로그래밍은 재미있어요!\n",
            "프로그래밍은 재미있어요!\n",
            "프로그래밍은 재미있어요!\n",
            "프로그래밍은 재미있어요!\n",
            "프로그래밍은 재미있어요!\n",
            "프로그래밍은 재미있어요!\n",
            "프로그래밍은 재미있어요!\n",
            "프로그래밍은 재미있어요!\n",
            "프로그래밍은 재미있어요!\n"
          ]
        }
      ]
    },
    {
      "cell_type": "code",
      "source": [
        "x=4"
      ],
      "metadata": {
        "id": "k-rrBmZSHqQ-"
      },
      "execution_count": 73,
      "outputs": []
    },
    {
      "cell_type": "code",
      "source": [
        "y=3"
      ],
      "metadata": {
        "id": "xsS92C93HtZm"
      },
      "execution_count": 74,
      "outputs": []
    },
    {
      "cell_type": "code",
      "source": [
        "x>y"
      ],
      "metadata": {
        "colab": {
          "base_uri": "https://localhost:8080/"
        },
        "id": "sA13oFwuHvVV",
        "outputId": "e7a312c3-31e6-42c6-eb7a-87f43874622e"
      },
      "execution_count": 75,
      "outputs": [
        {
          "output_type": "execute_result",
          "data": {
            "text/plain": [
              "True"
            ]
          },
          "metadata": {},
          "execution_count": 75
        }
      ]
    },
    {
      "cell_type": "code",
      "source": [
        "bool(x>y)"
      ],
      "metadata": {
        "colab": {
          "base_uri": "https://localhost:8080/"
        },
        "id": "Z4PoEPSO3IWg",
        "outputId": "e6792ca7-3c0e-4772-9371-67c881250cfe"
      },
      "execution_count": 76,
      "outputs": [
        {
          "output_type": "execute_result",
          "data": {
            "text/plain": [
              "True"
            ]
          },
          "metadata": {},
          "execution_count": 76
        }
      ]
    },
    {
      "cell_type": "code",
      "source": [
        "bool(x!=y)"
      ],
      "metadata": {
        "colab": {
          "base_uri": "https://localhost:8080/"
        },
        "id": "RdybEigq3PU_",
        "outputId": "f212b5e1-3ce3-4e64-dab5-274d1d0141c1"
      },
      "execution_count": 77,
      "outputs": [
        {
          "output_type": "execute_result",
          "data": {
            "text/plain": [
              "True"
            ]
          },
          "metadata": {},
          "execution_count": 77
        }
      ]
    },
    {
      "cell_type": "code",
      "source": [
        "bool(x==y)"
      ],
      "metadata": {
        "colab": {
          "base_uri": "https://localhost:8080/"
        },
        "id": "MVu2Zw933c49",
        "outputId": "90bb77b2-85db-44d3-de04-5513332cf17e"
      },
      "execution_count": 78,
      "outputs": [
        {
          "output_type": "execute_result",
          "data": {
            "text/plain": [
              "False"
            ]
          },
          "metadata": {},
          "execution_count": 78
        }
      ]
    },
    {
      "cell_type": "code",
      "source": [
        "bool(x<=y)"
      ],
      "metadata": {
        "colab": {
          "base_uri": "https://localhost:8080/"
        },
        "id": "XoZ6oxEt3fTg",
        "outputId": "9c7b800e-4eaf-46b0-9399-6c02d8f785ed"
      },
      "execution_count": 79,
      "outputs": [
        {
          "output_type": "execute_result",
          "data": {
            "text/plain": [
              "False"
            ]
          },
          "metadata": {},
          "execution_count": 79
        }
      ]
    },
    {
      "cell_type": "code",
      "source": [
        "money=2000"
      ],
      "metadata": {
        "id": "mFA0bJHOI03X"
      },
      "execution_count": 80,
      "outputs": []
    },
    {
      "cell_type": "code",
      "source": [
        "if money >=3000:\n",
        "  print(\"택시를 타고가라\")\n",
        "else:\n",
        "  print(\"걸어가라\")"
      ],
      "metadata": {
        "colab": {
          "base_uri": "https://localhost:8080/"
        },
        "id": "AIheKESlI3_V",
        "outputId": "8a56a527-7a3e-4819-cece-ff279e2107c8"
      },
      "execution_count": 81,
      "outputs": [
        {
          "output_type": "stream",
          "name": "stdout",
          "text": [
            "걸어가라\n"
          ]
        }
      ]
    },
    {
      "cell_type": "code",
      "source": [
        "card=True"
      ],
      "metadata": {
        "id": "T6uybdnAJbiC"
      },
      "execution_count": 82,
      "outputs": []
    },
    {
      "cell_type": "code",
      "source": [
        "if money>=3000 or card:\n",
        "  print(\"택시를 타고 가라\")\n",
        "\n",
        "else:\n",
        "  print(\"걸어가라\")"
      ],
      "metadata": {
        "colab": {
          "base_uri": "https://localhost:8080/"
        },
        "id": "qZ0eSCdaJegd",
        "outputId": "ea5d9e89-5758-4405-8fa1-024a5559adf3"
      },
      "execution_count": 83,
      "outputs": [
        {
          "output_type": "stream",
          "name": "stdout",
          "text": [
            "택시를 타고 가라\n"
          ]
        }
      ]
    },
    {
      "cell_type": "code",
      "source": [
        "bool(True or True)"
      ],
      "metadata": {
        "colab": {
          "base_uri": "https://localhost:8080/"
        },
        "id": "zU8mCe_X3igw",
        "outputId": "7c0572d6-8ebd-4d4f-fa46-ac5bfe804b40"
      },
      "execution_count": 84,
      "outputs": [
        {
          "output_type": "execute_result",
          "data": {
            "text/plain": [
              "True"
            ]
          },
          "metadata": {},
          "execution_count": 84
        }
      ]
    },
    {
      "cell_type": "code",
      "source": [
        "bool(True or False)"
      ],
      "metadata": {
        "colab": {
          "base_uri": "https://localhost:8080/"
        },
        "id": "0A7KuT2v3nqV",
        "outputId": "e5a77594-c24d-4e06-c953-12b01b12f985"
      },
      "execution_count": 85,
      "outputs": [
        {
          "output_type": "execute_result",
          "data": {
            "text/plain": [
              "True"
            ]
          },
          "metadata": {},
          "execution_count": 85
        }
      ]
    },
    {
      "cell_type": "code",
      "source": [
        "bool(False or False)"
      ],
      "metadata": {
        "colab": {
          "base_uri": "https://localhost:8080/"
        },
        "id": "3qwAonyd3rFc",
        "outputId": "2981d0f0-9218-40d4-f55d-07d411a7f3c9"
      },
      "execution_count": 86,
      "outputs": [
        {
          "output_type": "execute_result",
          "data": {
            "text/plain": [
              "False"
            ]
          },
          "metadata": {},
          "execution_count": 86
        }
      ]
    },
    {
      "cell_type": "code",
      "source": [
        "bool(not True)"
      ],
      "metadata": {
        "colab": {
          "base_uri": "https://localhost:8080/"
        },
        "id": "mNbJYV8h3tXQ",
        "outputId": "172e167c-dc23-4f82-e3d8-82054e319e3b"
      },
      "execution_count": 87,
      "outputs": [
        {
          "output_type": "execute_result",
          "data": {
            "text/plain": [
              "False"
            ]
          },
          "metadata": {},
          "execution_count": 87
        }
      ]
    },
    {
      "cell_type": "code",
      "source": [
        "bool(not False)"
      ],
      "metadata": {
        "colab": {
          "base_uri": "https://localhost:8080/"
        },
        "id": "7OduiQWf34fJ",
        "outputId": "4747463f-a9cf-4a2c-f2a5-4df76e21c934"
      },
      "execution_count": 88,
      "outputs": [
        {
          "output_type": "execute_result",
          "data": {
            "text/plain": [
              "True"
            ]
          },
          "metadata": {},
          "execution_count": 88
        }
      ]
    },
    {
      "cell_type": "code",
      "source": [
        "bool(not (True or False))"
      ],
      "metadata": {
        "colab": {
          "base_uri": "https://localhost:8080/"
        },
        "id": "1TlIrRom39Mc",
        "outputId": "2224aa14-e2d8-4c97-85e2-4dc3e06bf788"
      },
      "execution_count": 89,
      "outputs": [
        {
          "output_type": "execute_result",
          "data": {
            "text/plain": [
              "False"
            ]
          },
          "metadata": {},
          "execution_count": 89
        }
      ]
    },
    {
      "cell_type": "code",
      "source": [
        "bool((not True)or False)"
      ],
      "metadata": {
        "colab": {
          "base_uri": "https://localhost:8080/"
        },
        "id": "e_Mimybz4BF3",
        "outputId": "1205a995-2594-4858-ba98-2fa636c19a12"
      },
      "execution_count": 90,
      "outputs": [
        {
          "output_type": "execute_result",
          "data": {
            "text/plain": [
              "False"
            ]
          },
          "metadata": {},
          "execution_count": 90
        }
      ]
    },
    {
      "cell_type": "code",
      "source": [
        "bool((not False)or False)"
      ],
      "metadata": {
        "colab": {
          "base_uri": "https://localhost:8080/"
        },
        "id": "CNrxGFH44Dv5",
        "outputId": "02387d0a-f7f2-43c6-e1a0-ca0c0d92bff9"
      },
      "execution_count": 91,
      "outputs": [
        {
          "output_type": "execute_result",
          "data": {
            "text/plain": [
              "True"
            ]
          },
          "metadata": {},
          "execution_count": 91
        }
      ]
    },
    {
      "cell_type": "code",
      "source": [
        "1 in [1,2,3]"
      ],
      "metadata": {
        "colab": {
          "base_uri": "https://localhost:8080/"
        },
        "id": "Uy8WxGIZ4LyD",
        "outputId": "275af2ee-3729-426f-d15b-345f6c8d4a21"
      },
      "execution_count": 92,
      "outputs": [
        {
          "output_type": "execute_result",
          "data": {
            "text/plain": [
              "True"
            ]
          },
          "metadata": {},
          "execution_count": 92
        }
      ]
    },
    {
      "cell_type": "code",
      "source": [
        "1 not in [1,2,3]"
      ],
      "metadata": {
        "colab": {
          "base_uri": "https://localhost:8080/"
        },
        "id": "DHg9Fxme4R4J",
        "outputId": "120c77c1-6c3c-4c93-d3dc-bcc135ad259f"
      },
      "execution_count": 93,
      "outputs": [
        {
          "output_type": "execute_result",
          "data": {
            "text/plain": [
              "False"
            ]
          },
          "metadata": {},
          "execution_count": 93
        }
      ]
    },
    {
      "cell_type": "code",
      "source": [
        "pocket=['paper','cellphone','money']\n"
      ],
      "metadata": {
        "id": "D5ddaG5u4VKD"
      },
      "execution_count": 94,
      "outputs": []
    },
    {
      "cell_type": "code",
      "source": [
        "if 'money' in pocket:\n",
        "  print(\"택시를 타고 가라\")\n",
        "else:\n",
        "    print(\"걸어가라\")"
      ],
      "metadata": {
        "colab": {
          "base_uri": "https://localhost:8080/"
        },
        "id": "EtJw2jW_JxoL",
        "outputId": "1e5f4964-9015-46e2-f787-7b7a41810621"
      },
      "execution_count": 95,
      "outputs": [
        {
          "output_type": "stream",
          "name": "stdout",
          "text": [
            "택시를 타고 가라\n"
          ]
        }
      ]
    },
    {
      "cell_type": "code",
      "source": [
        "pocket=['paper','money','cellphone']"
      ],
      "metadata": {
        "id": "Tj6XDmElJ43Y"
      },
      "execution_count": 96,
      "outputs": []
    },
    {
      "cell_type": "code",
      "source": [
        "if 'money' in pocket:\n",
        "  pass\n",
        "else:\n",
        "  print(\"카드를 꺼내라\")"
      ],
      "metadata": {
        "id": "TgA6LMKU4mgG"
      },
      "execution_count": 97,
      "outputs": []
    },
    {
      "cell_type": "code",
      "source": [
        "if 3>2:\n",
        "  pass\n",
        "else:\n",
        "  print('hello')"
      ],
      "metadata": {
        "id": "vOzNKNfwH3ho"
      },
      "execution_count": 98,
      "outputs": []
    },
    {
      "cell_type": "code",
      "source": [
        "pocket=['paper','handphone']"
      ],
      "metadata": {
        "id": "hNZVSdaC5FKx"
      },
      "execution_count": 99,
      "outputs": []
    },
    {
      "cell_type": "code",
      "source": [
        "card=True"
      ],
      "metadata": {
        "id": "akvwRnfSKJD5"
      },
      "execution_count": 100,
      "outputs": []
    },
    {
      "cell_type": "code",
      "source": [
        "if 'money' in pocket:\n",
        "  print(\"택시를 타고가라\")\n",
        "elif card:\n",
        "  print(\"택시를 타고가라\")\n",
        "else:\n",
        "  print(\"걸어가라\")"
      ],
      "metadata": {
        "colab": {
          "base_uri": "https://localhost:8080/"
        },
        "id": "5tS8oDz9KMcu",
        "outputId": "44b82424-9456-44a5-9d22-874b440f40f3"
      },
      "execution_count": 101,
      "outputs": [
        {
          "output_type": "stream",
          "name": "stdout",
          "text": [
            "택시를 타고가라\n"
          ]
        }
      ]
    },
    {
      "cell_type": "code",
      "source": [
        "score=61"
      ],
      "metadata": {
        "id": "BHJDbdHpKfQ8"
      },
      "execution_count": 102,
      "outputs": []
    },
    {
      "cell_type": "code",
      "source": [
        "if score >=60:\n",
        "  message=\"success\"\n",
        "else:\n",
        "  message = \"failure\"\n",
        "\n",
        "message=\"success\" if score>=60 else \"failure\""
      ],
      "metadata": {
        "id": "QtcFgouB5dms"
      },
      "execution_count": 103,
      "outputs": []
    }
  ]
}