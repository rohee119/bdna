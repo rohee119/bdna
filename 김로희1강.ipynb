{
  "nbformat": 4,
  "nbformat_minor": 0,
  "metadata": {
    "colab": {
      "name": "김로희1강.ipynb",
      "provenance": [],
      "authorship_tag": "ABX9TyP9lBzsECCzC6nSF9FCgKr8",
      "include_colab_link": true
    },
    "kernelspec": {
      "name": "python3",
      "display_name": "Python 3"
    },
    "language_info": {
      "name": "python"
    }
  },
  "cells": [
    {
      "cell_type": "markdown",
      "metadata": {
        "id": "view-in-github",
        "colab_type": "text"
      },
      "source": [
        "<a href=\"https://colab.research.google.com/github/rohee119/bdna/blob/main/%EA%B9%80%EB%A1%9C%ED%9D%AC1%EA%B0%95.ipynb\" target=\"_parent\"><img src=\"https://colab.research.google.com/assets/colab-badge.svg\" alt=\"Open In Colab\"/></a>"
      ]
    },
    {
      "cell_type": "code",
      "execution_count": 1,
      "metadata": {
        "id": "02qLGytXh-pu"
      },
      "outputs": [],
      "source": [
        "def greet():\n",
        "  print(\"hello world\")"
      ]
    },
    {
      "cell_type": "code",
      "source": [
        "def add(a,b):\n",
        "  c=a+b\n",
        "  return c"
      ],
      "metadata": {
        "id": "pBVkUtdWiG4a"
      },
      "execution_count": 2,
      "outputs": []
    },
    {
      "cell_type": "code",
      "source": [
        "def multiply(a,b):\n",
        "  c=a*b\n",
        "  return c"
      ],
      "metadata": {
        "id": "tp0Jy_XGiIvB"
      },
      "execution_count": 3,
      "outputs": []
    },
    {
      "cell_type": "code",
      "source": [
        "def greet2(name):\n",
        "  print('반갑습니다', name)\n",
        "  print(name, '님은 파이썬의 세계로 오셨습니다')"
      ],
      "metadata": {
        "id": "QXV0_0_MiKF1"
      },
      "execution_count": 4,
      "outputs": []
    },
    {
      "cell_type": "code",
      "source": [
        "greet2('김로희')"
      ],
      "metadata": {
        "colab": {
          "base_uri": "https://localhost:8080/"
        },
        "id": "tOhVGTuciLW3",
        "outputId": "82f8ff02-934c-4221-964f-c2431ded1fbf"
      },
      "execution_count": 5,
      "outputs": [
        {
          "output_type": "stream",
          "name": "stdout",
          "text": [
            "반갑습니다 김로희\n",
            "김로희 님은 파이썬의 세계로 오셨습니다\n"
          ]
        }
      ]
    },
    {
      "cell_type": "code",
      "source": [
        "def adder(num1,num2):\n",
        "  sum=num1+num2\n",
        "  print('덧셈결과:', num1+num2)"
      ],
      "metadata": {
        "id": "aulD75tDiMdg"
      },
      "execution_count": 6,
      "outputs": []
    },
    {
      "cell_type": "code",
      "source": [
        "adder(1,9)"
      ],
      "metadata": {
        "colab": {
          "base_uri": "https://localhost:8080/"
        },
        "id": "GrgnFqWciNn5",
        "outputId": "06320b81-893a-4e11-db36-8e25a3313ac9"
      },
      "execution_count": 7,
      "outputs": [
        {
          "output_type": "stream",
          "name": "stdout",
          "text": [
            "덧셈결과: 10\n"
          ]
        }
      ]
    },
    {
      "cell_type": "code",
      "source": [
        "def adder(num1,num2):\n",
        "  sum=num1+num2\n",
        "  return sum"
      ],
      "metadata": {
        "id": "r1w6OCWyiO0o"
      },
      "execution_count": 8,
      "outputs": []
    },
    {
      "cell_type": "code",
      "source": [
        "def main():\n",
        "  print(adder(3,9))"
      ],
      "metadata": {
        "id": "zM-M74hmiPx0"
      },
      "execution_count": 9,
      "outputs": []
    },
    {
      "cell_type": "code",
      "source": [
        "def adder(num1,num2):\n",
        "  sum=num1+num2\n",
        "  return sum"
      ],
      "metadata": {
        "id": "2R9_evq3iRMi"
      },
      "execution_count": 10,
      "outputs": []
    },
    {
      "cell_type": "code",
      "source": [
        "result=adder(5,2)"
      ],
      "metadata": {
        "id": "v94ekAiLiSTi"
      },
      "execution_count": 11,
      "outputs": []
    },
    {
      "cell_type": "code",
      "source": [
        "print(result)"
      ],
      "metadata": {
        "colab": {
          "base_uri": "https://localhost:8080/"
        },
        "id": "VHvpuqUAiTLb",
        "outputId": "0725c0b1-6d75-4312-e424-68fa66ed58cd"
      },
      "execution_count": 12,
      "outputs": [
        {
          "output_type": "stream",
          "name": "stdout",
          "text": [
            "7\n"
          ]
        }
      ]
    },
    {
      "cell_type": "code",
      "source": [
        "main()"
      ],
      "metadata": {
        "colab": {
          "base_uri": "https://localhost:8080/"
        },
        "id": "M4UXJrzTiUjm",
        "outputId": "5ba20c64-a76e-4767-ee71-c97df4472c31"
      },
      "execution_count": 13,
      "outputs": [
        {
          "output_type": "stream",
          "name": "stdout",
          "text": [
            "12\n"
          ]
        }
      ]
    },
    {
      "cell_type": "code",
      "source": [
        "max(1,3,5)"
      ],
      "metadata": {
        "colab": {
          "base_uri": "https://localhost:8080/"
        },
        "id": "pmPvkwzRiVrx",
        "outputId": "35173a8f-32ee-467b-9219-4aeafe064ef1"
      },
      "execution_count": 14,
      "outputs": [
        {
          "output_type": "execute_result",
          "data": {
            "text/plain": [
              "5"
            ]
          },
          "metadata": {},
          "execution_count": 14
        }
      ]
    },
    {
      "cell_type": "code",
      "source": [
        "min(1,3,5)"
      ],
      "metadata": {
        "colab": {
          "base_uri": "https://localhost:8080/"
        },
        "id": "cqq0VbqviZ2w",
        "outputId": "c890ad97-c008-4fcc-bbb2-0d39bb40c04f"
      },
      "execution_count": 15,
      "outputs": [
        {
          "output_type": "execute_result",
          "data": {
            "text/plain": [
              "1"
            ]
          },
          "metadata": {},
          "execution_count": 15
        }
      ]
    },
    {
      "cell_type": "code",
      "source": [
        "round(4.71)"
      ],
      "metadata": {
        "colab": {
          "base_uri": "https://localhost:8080/"
        },
        "id": "ArPXkRVUibI0",
        "outputId": "c25088f6-2334-4ac6-b934-e9a72df39b60"
      },
      "execution_count": 16,
      "outputs": [
        {
          "output_type": "execute_result",
          "data": {
            "text/plain": [
              "5"
            ]
          },
          "metadata": {},
          "execution_count": 16
        }
      ]
    },
    {
      "cell_type": "code",
      "source": [
        "round(4.63464,2)"
      ],
      "metadata": {
        "colab": {
          "base_uri": "https://localhost:8080/"
        },
        "id": "e4OlbOG5icNR",
        "outputId": "e55f55fe-1f39-45bb-fd3a-e27b9c6e18b1"
      },
      "execution_count": 17,
      "outputs": [
        {
          "output_type": "execute_result",
          "data": {
            "text/plain": [
              "4.63"
            ]
          },
          "metadata": {},
          "execution_count": 17
        }
      ]
    },
    {
      "cell_type": "code",
      "source": [
        "abs(-6)"
      ],
      "metadata": {
        "colab": {
          "base_uri": "https://localhost:8080/"
        },
        "id": "lXR3VQD2idNA",
        "outputId": "50b92914-4e6e-4b48-cf50-fd1480096e9b"
      },
      "execution_count": 18,
      "outputs": [
        {
          "output_type": "execute_result",
          "data": {
            "text/plain": [
              "6"
            ]
          },
          "metadata": {},
          "execution_count": 18
        }
      ]
    },
    {
      "cell_type": "code",
      "source": [
        "pow(4,3)"
      ],
      "metadata": {
        "colab": {
          "base_uri": "https://localhost:8080/"
        },
        "id": "FNI_CEHqiesp",
        "outputId": "a600d73c-4a9f-4ff8-b4cd-6f2668748e22"
      },
      "execution_count": 19,
      "outputs": [
        {
          "output_type": "execute_result",
          "data": {
            "text/plain": [
              "64"
            ]
          },
          "metadata": {},
          "execution_count": 19
        }
      ]
    },
    {
      "cell_type": "code",
      "source": [
        "result=eval(input(\"뭐든 넣어요:\"))"
      ],
      "metadata": {
        "colab": {
          "base_uri": "https://localhost:8080/"
        },
        "id": "5fSeuLF2ifsZ",
        "outputId": "4c786704-0c8a-4d2b-e4a6-005b49016a42"
      },
      "execution_count": 20,
      "outputs": [
        {
          "name": "stdout",
          "output_type": "stream",
          "text": [
            "뭐든 넣어요:1*4+2\n"
          ]
        }
      ]
    },
    {
      "cell_type": "code",
      "source": [
        "result"
      ],
      "metadata": {
        "colab": {
          "base_uri": "https://localhost:8080/"
        },
        "id": "lfgsDYsrig9E",
        "outputId": "5f78af20-1c83-416f-d8e0-7094e4c3524c"
      },
      "execution_count": 21,
      "outputs": [
        {
          "output_type": "execute_result",
          "data": {
            "text/plain": [
              "6"
            ]
          },
          "metadata": {},
          "execution_count": 21
        }
      ]
    },
    {
      "cell_type": "code",
      "source": [
        "def ret():\n",
        "  return 10"
      ],
      "metadata": {
        "id": "AKL4GRi5ikUH"
      },
      "execution_count": 22,
      "outputs": []
    },
    {
      "cell_type": "code",
      "source": [
        "result=eval(input(\"뭐든 넣어요:\"))"
      ],
      "metadata": {
        "colab": {
          "base_uri": "https://localhost:8080/"
        },
        "id": "cpgXKUDgingi",
        "outputId": "be11edaf-b0c2-4154-d700-cb0e0aed399d"
      },
      "execution_count": 23,
      "outputs": [
        {
          "name": "stdout",
          "output_type": "stream",
          "text": [
            "뭐든 넣어요:3+2*7-1\n"
          ]
        }
      ]
    },
    {
      "cell_type": "code",
      "source": [
        "print(result)"
      ],
      "metadata": {
        "colab": {
          "base_uri": "https://localhost:8080/"
        },
        "id": "ns9F_Km1iotf",
        "outputId": "baa5fbcd-35cc-4764-e5c6-05167e20e861"
      },
      "execution_count": 24,
      "outputs": [
        {
          "output_type": "stream",
          "name": "stdout",
          "text": [
            "16\n"
          ]
        }
      ]
    },
    {
      "cell_type": "code",
      "source": [
        "def greet_three_times():\n",
        "  print('hi')\n",
        "  print('hi')\n",
        "  print('hi')"
      ],
      "metadata": {
        "id": "2qg5sCCPiuH9"
      },
      "execution_count": 26,
      "outputs": []
    },
    {
      "cell_type": "code",
      "source": [
        "greet_three_times()"
      ],
      "metadata": {
        "colab": {
          "base_uri": "https://localhost:8080/"
        },
        "id": "S2O9Jougi5o_",
        "outputId": "9b1586a2-6111-4c76-fdc2-c5f93ddd7547"
      },
      "execution_count": 27,
      "outputs": [
        {
          "output_type": "stream",
          "name": "stdout",
          "text": [
            "hi\n",
            "hi\n",
            "hi\n"
          ]
        }
      ]
    },
    {
      "cell_type": "code",
      "source": [
        "def greet_10(num):\n",
        "  if (num>0):\n",
        "    print('hi')\n",
        "    num=num-1\n",
        "    greet_10(num)"
      ],
      "metadata": {
        "id": "um9n5x1Xi8i7"
      },
      "execution_count": 28,
      "outputs": []
    },
    {
      "cell_type": "code",
      "source": [
        "greet_10(3)"
      ],
      "metadata": {
        "colab": {
          "base_uri": "https://localhost:8080/"
        },
        "id": "oHVO2kCWi9Yb",
        "outputId": "4a5fcff3-6c38-424e-e781-a41220c81d6d"
      },
      "execution_count": 29,
      "outputs": [
        {
          "output_type": "stream",
          "name": "stdout",
          "text": [
            "hi\n",
            "hi\n",
            "hi\n"
          ]
        }
      ]
    },
    {
      "cell_type": "code",
      "source": [
        "greet_10(2)"
      ],
      "metadata": {
        "colab": {
          "base_uri": "https://localhost:8080/"
        },
        "id": "njEYokRPi_Ag",
        "outputId": "34360c57-12b3-4f65-b709-512f8e1b7f3e"
      },
      "execution_count": 30,
      "outputs": [
        {
          "output_type": "stream",
          "name": "stdout",
          "text": [
            "hi\n",
            "hi\n"
          ]
        }
      ]
    },
    {
      "cell_type": "code",
      "source": [
        "greet_10(1)"
      ],
      "metadata": {
        "colab": {
          "base_uri": "https://localhost:8080/"
        },
        "id": "DBU8OjR3i_7v",
        "outputId": "a47e6d11-284f-48ef-adc8-5d9b21bc02d5"
      },
      "execution_count": 31,
      "outputs": [
        {
          "output_type": "stream",
          "name": "stdout",
          "text": [
            "hi\n"
          ]
        }
      ]
    },
    {
      "cell_type": "code",
      "source": [
        "greet_10(0)"
      ],
      "metadata": {
        "id": "9ZJPCmAZjAuf"
      },
      "execution_count": 32,
      "outputs": []
    },
    {
      "cell_type": "code",
      "source": [
        "sum=0\n",
        "for i in range(1,11):\n",
        "  sum=sum+i"
      ],
      "metadata": {
        "id": "UDzikrM8jCHo"
      },
      "execution_count": 33,
      "outputs": []
    },
    {
      "cell_type": "code",
      "source": [
        "sum"
      ],
      "metadata": {
        "colab": {
          "base_uri": "https://localhost:8080/"
        },
        "id": "5JJJRZdSjDiJ",
        "outputId": "7578a8fa-6229-47f1-b18c-edeb0234f034"
      },
      "execution_count": 34,
      "outputs": [
        {
          "output_type": "execute_result",
          "data": {
            "text/plain": [
              "55"
            ]
          },
          "metadata": {},
          "execution_count": 34
        }
      ]
    },
    {
      "cell_type": "code",
      "source": [
        "import random"
      ],
      "metadata": {
        "id": "WLaYFwpijEgG"
      },
      "execution_count": 35,
      "outputs": []
    },
    {
      "cell_type": "code",
      "source": [
        "NUMBER_OF_TRIALS=5000000\n",
        "numberofhits = 0"
      ],
      "metadata": {
        "id": "PWxCBXPyjG96"
      },
      "execution_count": 36,
      "outputs": []
    },
    {
      "cell_type": "code",
      "source": [
        "for i in range(NUMBER_OF_TRIALS):\n",
        "  x=random.random()*2-1\n",
        "  y=random.random()*2-1\n",
        "  if x*x+y*y<=1:\n",
        "    numberofhits+=1"
      ],
      "metadata": {
        "id": "cNuWF_E2jHpx"
      },
      "execution_count": 37,
      "outputs": []
    },
    {
      "cell_type": "code",
      "source": [
        "pi=4*numberofhits / NUMBER_OF_TRIALS"
      ],
      "metadata": {
        "id": "lB5SKoeljJzH"
      },
      "execution_count": 38,
      "outputs": []
    },
    {
      "cell_type": "code",
      "source": [
        "print(\"PI는\",pi,\"입니다\")"
      ],
      "metadata": {
        "colab": {
          "base_uri": "https://localhost:8080/"
        },
        "id": "TtXGsb7gjK9G",
        "outputId": "5795eda1-e4d7-4c39-bb42-e1c1d9cba1c0"
      },
      "execution_count": 39,
      "outputs": [
        {
          "output_type": "stream",
          "name": "stdout",
          "text": [
            "PI는 3.1408432 입니다\n"
          ]
        }
      ]
    },
    {
      "cell_type": "code",
      "source": [
        "import random\n",
        "NUMBER_OF_TRIALS=5000000\n",
        "numberofhits=0\n",
        "i=0"
      ],
      "metadata": {
        "id": "dYOfW0yvjL1v"
      },
      "execution_count": 40,
      "outputs": []
    },
    {
      "cell_type": "code",
      "source": [
        "while (i<NUMBER_OF_TRIALS):\n",
        "  x=random.random()*2-1\n",
        "  y=random.random()*2-1\n",
        "  if x*x+y*y<=1:\n",
        "    numberofhits+=1\n",
        "  i=i+1"
      ],
      "metadata": {
        "id": "Kc-Lw22qjNBG"
      },
      "execution_count": 41,
      "outputs": []
    },
    {
      "cell_type": "code",
      "source": [
        "pi=4*numberofhits/NUMBER_OF_TRIALS"
      ],
      "metadata": {
        "id": "ueZ88418jNys"
      },
      "execution_count": 42,
      "outputs": []
    },
    {
      "cell_type": "code",
      "source": [
        "print(\"PI\",pi,\"입니다\")"
      ],
      "metadata": {
        "colab": {
          "base_uri": "https://localhost:8080/"
        },
        "id": "9QsZY4srjOvS",
        "outputId": "2fb59bfc-a615-40d6-9295-9158f032627c"
      },
      "execution_count": 43,
      "outputs": [
        {
          "output_type": "stream",
          "name": "stdout",
          "text": [
            "PI 3.1424384 입니다\n"
          ]
        }
      ]
    },
    {
      "cell_type": "code",
      "source": [
        "count=0\n",
        "while count <100:\n",
        "  print(\"프로그래밍은 재미있어요!\")\n",
        "  count=count+1"
      ],
      "metadata": {
        "colab": {
          "base_uri": "https://localhost:8080/"
        },
        "id": "KWEFrfIojSsf",
        "outputId": "a9a75ceb-d08b-453b-a662-42161b64020c"
      },
      "execution_count": 44,
      "outputs": [
        {
          "output_type": "stream",
          "name": "stdout",
          "text": [
            "프로그래밍은 재미있어요!\n",
            "프로그래밍은 재미있어요!\n",
            "프로그래밍은 재미있어요!\n",
            "프로그래밍은 재미있어요!\n",
            "프로그래밍은 재미있어요!\n",
            "프로그래밍은 재미있어요!\n",
            "프로그래밍은 재미있어요!\n",
            "프로그래밍은 재미있어요!\n",
            "프로그래밍은 재미있어요!\n",
            "프로그래밍은 재미있어요!\n",
            "프로그래밍은 재미있어요!\n",
            "프로그래밍은 재미있어요!\n",
            "프로그래밍은 재미있어요!\n",
            "프로그래밍은 재미있어요!\n",
            "프로그래밍은 재미있어요!\n",
            "프로그래밍은 재미있어요!\n",
            "프로그래밍은 재미있어요!\n",
            "프로그래밍은 재미있어요!\n",
            "프로그래밍은 재미있어요!\n",
            "프로그래밍은 재미있어요!\n",
            "프로그래밍은 재미있어요!\n",
            "프로그래밍은 재미있어요!\n",
            "프로그래밍은 재미있어요!\n",
            "프로그래밍은 재미있어요!\n",
            "프로그래밍은 재미있어요!\n",
            "프로그래밍은 재미있어요!\n",
            "프로그래밍은 재미있어요!\n",
            "프로그래밍은 재미있어요!\n",
            "프로그래밍은 재미있어요!\n",
            "프로그래밍은 재미있어요!\n",
            "프로그래밍은 재미있어요!\n",
            "프로그래밍은 재미있어요!\n",
            "프로그래밍은 재미있어요!\n",
            "프로그래밍은 재미있어요!\n",
            "프로그래밍은 재미있어요!\n",
            "프로그래밍은 재미있어요!\n",
            "프로그래밍은 재미있어요!\n",
            "프로그래밍은 재미있어요!\n",
            "프로그래밍은 재미있어요!\n",
            "프로그래밍은 재미있어요!\n",
            "프로그래밍은 재미있어요!\n",
            "프로그래밍은 재미있어요!\n",
            "프로그래밍은 재미있어요!\n",
            "프로그래밍은 재미있어요!\n",
            "프로그래밍은 재미있어요!\n",
            "프로그래밍은 재미있어요!\n",
            "프로그래밍은 재미있어요!\n",
            "프로그래밍은 재미있어요!\n",
            "프로그래밍은 재미있어요!\n",
            "프로그래밍은 재미있어요!\n",
            "프로그래밍은 재미있어요!\n",
            "프로그래밍은 재미있어요!\n",
            "프로그래밍은 재미있어요!\n",
            "프로그래밍은 재미있어요!\n",
            "프로그래밍은 재미있어요!\n",
            "프로그래밍은 재미있어요!\n",
            "프로그래밍은 재미있어요!\n",
            "프로그래밍은 재미있어요!\n",
            "프로그래밍은 재미있어요!\n",
            "프로그래밍은 재미있어요!\n",
            "프로그래밍은 재미있어요!\n",
            "프로그래밍은 재미있어요!\n",
            "프로그래밍은 재미있어요!\n",
            "프로그래밍은 재미있어요!\n",
            "프로그래밍은 재미있어요!\n",
            "프로그래밍은 재미있어요!\n",
            "프로그래밍은 재미있어요!\n",
            "프로그래밍은 재미있어요!\n",
            "프로그래밍은 재미있어요!\n",
            "프로그래밍은 재미있어요!\n",
            "프로그래밍은 재미있어요!\n",
            "프로그래밍은 재미있어요!\n",
            "프로그래밍은 재미있어요!\n",
            "프로그래밍은 재미있어요!\n",
            "프로그래밍은 재미있어요!\n",
            "프로그래밍은 재미있어요!\n",
            "프로그래밍은 재미있어요!\n",
            "프로그래밍은 재미있어요!\n",
            "프로그래밍은 재미있어요!\n",
            "프로그래밍은 재미있어요!\n",
            "프로그래밍은 재미있어요!\n",
            "프로그래밍은 재미있어요!\n",
            "프로그래밍은 재미있어요!\n",
            "프로그래밍은 재미있어요!\n",
            "프로그래밍은 재미있어요!\n",
            "프로그래밍은 재미있어요!\n",
            "프로그래밍은 재미있어요!\n",
            "프로그래밍은 재미있어요!\n",
            "프로그래밍은 재미있어요!\n",
            "프로그래밍은 재미있어요!\n",
            "프로그래밍은 재미있어요!\n",
            "프로그래밍은 재미있어요!\n",
            "프로그래밍은 재미있어요!\n",
            "프로그래밍은 재미있어요!\n",
            "프로그래밍은 재미있어요!\n",
            "프로그래밍은 재미있어요!\n",
            "프로그래밍은 재미있어요!\n",
            "프로그래밍은 재미있어요!\n",
            "프로그래밍은 재미있어요!\n",
            "프로그래밍은 재미있어요!\n"
          ]
        }
      ]
    },
    {
      "cell_type": "code",
      "source": [
        "x=4"
      ],
      "metadata": {
        "id": "XC8YvxgXjTxe"
      },
      "execution_count": 45,
      "outputs": []
    },
    {
      "cell_type": "code",
      "source": [
        "y=3"
      ],
      "metadata": {
        "id": "5o-U74dtjVqj"
      },
      "execution_count": 46,
      "outputs": []
    },
    {
      "cell_type": "code",
      "source": [
        "x>y"
      ],
      "metadata": {
        "colab": {
          "base_uri": "https://localhost:8080/"
        },
        "id": "Ff3l7-FkjWpH",
        "outputId": "729d05a6-429b-4a8d-d7af-eec77f8c7d4b"
      },
      "execution_count": 47,
      "outputs": [
        {
          "output_type": "execute_result",
          "data": {
            "text/plain": [
              "True"
            ]
          },
          "metadata": {},
          "execution_count": 47
        }
      ]
    },
    {
      "cell_type": "code",
      "source": [
        "bool(x>y)"
      ],
      "metadata": {
        "colab": {
          "base_uri": "https://localhost:8080/"
        },
        "id": "Fnrr2tLQjXzQ",
        "outputId": "b844bac4-82d0-4ce8-8880-10e6cfc93696"
      },
      "execution_count": 48,
      "outputs": [
        {
          "output_type": "execute_result",
          "data": {
            "text/plain": [
              "True"
            ]
          },
          "metadata": {},
          "execution_count": 48
        }
      ]
    },
    {
      "cell_type": "code",
      "source": [
        "bool(x!=y)"
      ],
      "metadata": {
        "colab": {
          "base_uri": "https://localhost:8080/"
        },
        "id": "6tH76NsZjY93",
        "outputId": "d957b7bc-f800-4a03-eb49-c740a56bb28d"
      },
      "execution_count": 49,
      "outputs": [
        {
          "output_type": "execute_result",
          "data": {
            "text/plain": [
              "True"
            ]
          },
          "metadata": {},
          "execution_count": 49
        }
      ]
    },
    {
      "cell_type": "code",
      "source": [
        "bool(x==y)"
      ],
      "metadata": {
        "colab": {
          "base_uri": "https://localhost:8080/"
        },
        "id": "PU2QwaZJjZz9",
        "outputId": "aaef1e22-322e-41ad-b9fe-c02be9bc9a36"
      },
      "execution_count": 50,
      "outputs": [
        {
          "output_type": "execute_result",
          "data": {
            "text/plain": [
              "False"
            ]
          },
          "metadata": {},
          "execution_count": 50
        }
      ]
    },
    {
      "cell_type": "code",
      "source": [
        "bool(x<=y)"
      ],
      "metadata": {
        "colab": {
          "base_uri": "https://localhost:8080/"
        },
        "id": "_AYM0T9FjakK",
        "outputId": "a2ac07e2-63c9-41e5-8646-53384bb3e3c2"
      },
      "execution_count": 51,
      "outputs": [
        {
          "output_type": "execute_result",
          "data": {
            "text/plain": [
              "False"
            ]
          },
          "metadata": {},
          "execution_count": 51
        }
      ]
    },
    {
      "cell_type": "code",
      "source": [
        "money=2000"
      ],
      "metadata": {
        "id": "lasxXZpljbVj"
      },
      "execution_count": 52,
      "outputs": []
    },
    {
      "cell_type": "code",
      "source": [
        "if money >=3000:\n",
        "  print(\"택시를 타고가라\")\n",
        "else:\n",
        "  print(\"걸어가라\")"
      ],
      "metadata": {
        "colab": {
          "base_uri": "https://localhost:8080/"
        },
        "id": "mQqRZCiCjcPA",
        "outputId": "f7f59be3-aa4e-469f-9c53-90faf0d5520b"
      },
      "execution_count": 53,
      "outputs": [
        {
          "output_type": "stream",
          "name": "stdout",
          "text": [
            "걸어가라\n"
          ]
        }
      ]
    },
    {
      "cell_type": "code",
      "source": [
        "card=True"
      ],
      "metadata": {
        "id": "MgwKgxjbjdA-"
      },
      "execution_count": 54,
      "outputs": []
    },
    {
      "cell_type": "code",
      "source": [
        "if money>=3000 or card:\n",
        "  print(\"택시를 타고 가라\")\n",
        "\n",
        "else:\n",
        "  print(\"걸어가라\")"
      ],
      "metadata": {
        "colab": {
          "base_uri": "https://localhost:8080/"
        },
        "id": "sB6irY6HjeAI",
        "outputId": "ede543c9-51b7-40ff-f33f-d7191d9fdf80"
      },
      "execution_count": 55,
      "outputs": [
        {
          "output_type": "stream",
          "name": "stdout",
          "text": [
            "택시를 타고 가라\n"
          ]
        }
      ]
    },
    {
      "cell_type": "code",
      "source": [
        "bool(True or True)"
      ],
      "metadata": {
        "colab": {
          "base_uri": "https://localhost:8080/"
        },
        "id": "VdOOHGvrje3N",
        "outputId": "e2e75d1d-9a77-4180-b508-ff29fc10f359"
      },
      "execution_count": 56,
      "outputs": [
        {
          "output_type": "execute_result",
          "data": {
            "text/plain": [
              "True"
            ]
          },
          "metadata": {},
          "execution_count": 56
        }
      ]
    },
    {
      "cell_type": "code",
      "source": [
        "bool(True or False)"
      ],
      "metadata": {
        "colab": {
          "base_uri": "https://localhost:8080/"
        },
        "id": "PfQKkD4Sjf5H",
        "outputId": "737f3917-2ec0-4c10-c52a-f9ea65961915"
      },
      "execution_count": 57,
      "outputs": [
        {
          "output_type": "execute_result",
          "data": {
            "text/plain": [
              "True"
            ]
          },
          "metadata": {},
          "execution_count": 57
        }
      ]
    },
    {
      "cell_type": "code",
      "source": [
        "bool(False or False)"
      ],
      "metadata": {
        "colab": {
          "base_uri": "https://localhost:8080/"
        },
        "id": "jGuiWXtqjh5d",
        "outputId": "1f9ffe88-d2ef-43f2-a415-015d3893a616"
      },
      "execution_count": 58,
      "outputs": [
        {
          "output_type": "execute_result",
          "data": {
            "text/plain": [
              "False"
            ]
          },
          "metadata": {},
          "execution_count": 58
        }
      ]
    },
    {
      "cell_type": "code",
      "source": [
        "bool(not True)"
      ],
      "metadata": {
        "colab": {
          "base_uri": "https://localhost:8080/"
        },
        "id": "NN0UvW6sji66",
        "outputId": "e17f3ef2-fb1f-4cfd-86e6-4e063c68973a"
      },
      "execution_count": 59,
      "outputs": [
        {
          "output_type": "execute_result",
          "data": {
            "text/plain": [
              "False"
            ]
          },
          "metadata": {},
          "execution_count": 59
        }
      ]
    },
    {
      "cell_type": "code",
      "source": [
        "bool(not False)"
      ],
      "metadata": {
        "colab": {
          "base_uri": "https://localhost:8080/"
        },
        "id": "imcrRYB_jkmK",
        "outputId": "06c12a72-d8ad-4435-f1ac-d880ccbba6a0"
      },
      "execution_count": 60,
      "outputs": [
        {
          "output_type": "execute_result",
          "data": {
            "text/plain": [
              "True"
            ]
          },
          "metadata": {},
          "execution_count": 60
        }
      ]
    },
    {
      "cell_type": "code",
      "source": [
        "bool(not (True or False))"
      ],
      "metadata": {
        "colab": {
          "base_uri": "https://localhost:8080/"
        },
        "id": "rqwTGyIUjleB",
        "outputId": "b7400661-591b-4610-a94f-12f4da5d57b0"
      },
      "execution_count": 61,
      "outputs": [
        {
          "output_type": "execute_result",
          "data": {
            "text/plain": [
              "False"
            ]
          },
          "metadata": {},
          "execution_count": 61
        }
      ]
    },
    {
      "cell_type": "code",
      "source": [
        "bool((not True)or False)"
      ],
      "metadata": {
        "colab": {
          "base_uri": "https://localhost:8080/"
        },
        "id": "M0Fv-j1TjmXe",
        "outputId": "1641237c-1dc3-4d54-ae85-94a336f17f1a"
      },
      "execution_count": 62,
      "outputs": [
        {
          "output_type": "execute_result",
          "data": {
            "text/plain": [
              "False"
            ]
          },
          "metadata": {},
          "execution_count": 62
        }
      ]
    },
    {
      "cell_type": "code",
      "source": [
        "bool((not False)or False)"
      ],
      "metadata": {
        "colab": {
          "base_uri": "https://localhost:8080/"
        },
        "id": "78yr0Jffjnub",
        "outputId": "3a706c28-8f67-45f8-be23-2cb4aee54d6f"
      },
      "execution_count": 63,
      "outputs": [
        {
          "output_type": "execute_result",
          "data": {
            "text/plain": [
              "True"
            ]
          },
          "metadata": {},
          "execution_count": 63
        }
      ]
    },
    {
      "cell_type": "code",
      "source": [
        "1 in [1,2,3]"
      ],
      "metadata": {
        "colab": {
          "base_uri": "https://localhost:8080/"
        },
        "id": "y5WO1RLXjoc4",
        "outputId": "14c175b0-5e58-46ef-918c-19786f3518f0"
      },
      "execution_count": 64,
      "outputs": [
        {
          "output_type": "execute_result",
          "data": {
            "text/plain": [
              "True"
            ]
          },
          "metadata": {},
          "execution_count": 64
        }
      ]
    },
    {
      "cell_type": "code",
      "source": [
        "1 not in [1,2,3]"
      ],
      "metadata": {
        "colab": {
          "base_uri": "https://localhost:8080/"
        },
        "id": "b_fFLC_MjpS_",
        "outputId": "10a83be4-159e-4e2a-f389-83bc7d85d8c6"
      },
      "execution_count": 65,
      "outputs": [
        {
          "output_type": "execute_result",
          "data": {
            "text/plain": [
              "False"
            ]
          },
          "metadata": {},
          "execution_count": 65
        }
      ]
    },
    {
      "cell_type": "code",
      "source": [
        "pocket=['paper','cellphone','money']"
      ],
      "metadata": {
        "id": "wmjmxeNfjqHT"
      },
      "execution_count": 66,
      "outputs": []
    },
    {
      "cell_type": "code",
      "source": [
        "if 'money' in pocket:\n",
        "  print(\"택시를 타고 가라\")\n",
        "else:\n",
        "    print(\"걸어가라\")"
      ],
      "metadata": {
        "colab": {
          "base_uri": "https://localhost:8080/"
        },
        "id": "YQeWsPyOjq-M",
        "outputId": "8d26691b-cb19-41db-87cb-cdf13153cbe8"
      },
      "execution_count": 67,
      "outputs": [
        {
          "output_type": "stream",
          "name": "stdout",
          "text": [
            "택시를 타고 가라\n"
          ]
        }
      ]
    },
    {
      "cell_type": "code",
      "source": [
        "pocket=['paper','money','cellphone']"
      ],
      "metadata": {
        "id": "SgT-uUZqjr6O"
      },
      "execution_count": 68,
      "outputs": []
    },
    {
      "cell_type": "code",
      "source": [
        "if 'money' in pocket:\n",
        "  pass\n",
        "else:\n",
        "  print(\"카드를 꺼내라\")"
      ],
      "metadata": {
        "id": "RfzLWxMYjsm3"
      },
      "execution_count": 69,
      "outputs": []
    },
    {
      "cell_type": "code",
      "source": [
        "if 3>2:\n",
        "  pass\n",
        "else:\n",
        "  print('hello')"
      ],
      "metadata": {
        "id": "dUKqbDV4jti4"
      },
      "execution_count": 70,
      "outputs": []
    },
    {
      "cell_type": "code",
      "source": [
        "pocket=['paper','handphone']"
      ],
      "metadata": {
        "id": "J4SzhvSmjuPV"
      },
      "execution_count": 71,
      "outputs": []
    },
    {
      "cell_type": "code",
      "source": [
        "card=True"
      ],
      "metadata": {
        "id": "4NOIjD5tjvEd"
      },
      "execution_count": 72,
      "outputs": []
    },
    {
      "cell_type": "code",
      "source": [
        "if 'money' in pocket:\n",
        "  print(\"택시를 타고가라\")\n",
        "elif card:\n",
        "  print(\"택시를 타고가라\")\n",
        "else:\n",
        "  print(\"걸어가라\")"
      ],
      "metadata": {
        "colab": {
          "base_uri": "https://localhost:8080/"
        },
        "id": "xcBqhpq5jxOY",
        "outputId": "5d7d1a4b-46b0-4632-823c-d37b7075fa3e"
      },
      "execution_count": 73,
      "outputs": [
        {
          "output_type": "stream",
          "name": "stdout",
          "text": [
            "택시를 타고가라\n"
          ]
        }
      ]
    },
    {
      "cell_type": "code",
      "source": [
        "score=61\n",
        "if score >=60:\n",
        "  message=\"success\"\n",
        "else:\n",
        "  message = \"failure\"\n",
        "\n",
        "message=\"success\" if score>=60 else \"failure\""
      ],
      "metadata": {
        "id": "Yp7EFbPyjyrE"
      },
      "execution_count": 74,
      "outputs": []
    }
  ]
}